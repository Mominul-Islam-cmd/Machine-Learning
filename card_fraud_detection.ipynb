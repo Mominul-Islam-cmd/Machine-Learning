{
  "nbformat": 4,
  "nbformat_minor": 0,
  "metadata": {
    "colab": {
      "name": "card_fraud-detection.ipynb",
      "provenance": [],
      "authorship_tag": "ABX9TyNo9ps1S51rLnFLjQk6JjGe",
      "include_colab_link": true
    },
    "kernelspec": {
      "name": "python3",
      "display_name": "Python 3"
    },
    "language_info": {
      "name": "python"
    }
  },
  "cells": [
    {
      "cell_type": "markdown",
      "metadata": {
        "id": "view-in-github",
        "colab_type": "text"
      },
      "source": [
        "<a href=\"https://colab.research.google.com/github/MominulJM/Machine-Learning/blob/main/card_fraud_detection.ipynb\" target=\"_parent\"><img src=\"https://colab.research.google.com/assets/colab-badge.svg\" alt=\"Open In Colab\"/></a>"
      ]
    },
    {
      "cell_type": "code",
      "metadata": {
        "id": "tBs8ZAs0Li05"
      },
      "source": [
        "import numpy as np\n",
        "import pandas as pd \n"
      ],
      "execution_count": 93,
      "outputs": []
    },
    {
      "cell_type": "code",
      "source": [
        "from google.colab import drive\n",
        "drive.mount('/content/drive')"
      ],
      "metadata": {
        "id": "pVa5esAZZ_Lr",
        "outputId": "25c5415d-cac6-4338-8e1c-e138bfc4480e",
        "colab": {
          "base_uri": "https://localhost:8080/"
        }
      },
      "execution_count": 94,
      "outputs": [
        {
          "output_type": "stream",
          "name": "stdout",
          "text": [
            "Drive already mounted at /content/drive; to attempt to forcibly remount, call drive.mount(\"/content/drive\", force_remount=True).\n"
          ]
        }
      ]
    },
    {
      "cell_type": "code",
      "metadata": {
        "colab": {
          "base_uri": "https://localhost:8080/",
          "height": 444
        },
        "id": "yGBMoNVXYs9s",
        "outputId": "c83d141a-56eb-40f8-9bdf-b0722e37874b"
      },
      "source": [
        "df=pd.read_csv('/content/drive/MyDrive/Dataset/DATA/creditcard_FraudDetection_Dataset.csv')\n",
        "df"
      ],
      "execution_count": 95,
      "outputs": [
        {
          "output_type": "execute_result",
          "data": {
            "text/html": [
              "<div>\n",
              "<style scoped>\n",
              "    .dataframe tbody tr th:only-of-type {\n",
              "        vertical-align: middle;\n",
              "    }\n",
              "\n",
              "    .dataframe tbody tr th {\n",
              "        vertical-align: top;\n",
              "    }\n",
              "\n",
              "    .dataframe thead th {\n",
              "        text-align: right;\n",
              "    }\n",
              "</style>\n",
              "<table border=\"1\" class=\"dataframe\">\n",
              "  <thead>\n",
              "    <tr style=\"text-align: right;\">\n",
              "      <th></th>\n",
              "      <th>Time</th>\n",
              "      <th>V1</th>\n",
              "      <th>V2</th>\n",
              "      <th>V3</th>\n",
              "      <th>V4</th>\n",
              "      <th>V5</th>\n",
              "      <th>V6</th>\n",
              "      <th>V7</th>\n",
              "      <th>V8</th>\n",
              "      <th>V9</th>\n",
              "      <th>V10</th>\n",
              "      <th>V11</th>\n",
              "      <th>V12</th>\n",
              "      <th>V13</th>\n",
              "      <th>V14</th>\n",
              "      <th>V15</th>\n",
              "      <th>V16</th>\n",
              "      <th>V17</th>\n",
              "      <th>V18</th>\n",
              "      <th>V19</th>\n",
              "      <th>V20</th>\n",
              "      <th>V21</th>\n",
              "      <th>V22</th>\n",
              "      <th>V23</th>\n",
              "      <th>V24</th>\n",
              "      <th>V25</th>\n",
              "      <th>V26</th>\n",
              "      <th>V27</th>\n",
              "      <th>V28</th>\n",
              "      <th>Amount</th>\n",
              "      <th>Class</th>\n",
              "    </tr>\n",
              "  </thead>\n",
              "  <tbody>\n",
              "    <tr>\n",
              "      <th>0</th>\n",
              "      <td>0.0</td>\n",
              "      <td>-1.359807</td>\n",
              "      <td>-0.072781</td>\n",
              "      <td>2.536347</td>\n",
              "      <td>1.378155</td>\n",
              "      <td>-0.338321</td>\n",
              "      <td>0.462388</td>\n",
              "      <td>0.239599</td>\n",
              "      <td>0.098698</td>\n",
              "      <td>0.363787</td>\n",
              "      <td>0.090794</td>\n",
              "      <td>-0.551600</td>\n",
              "      <td>-0.617801</td>\n",
              "      <td>-0.991390</td>\n",
              "      <td>-0.311169</td>\n",
              "      <td>1.468177</td>\n",
              "      <td>-0.470401</td>\n",
              "      <td>0.207971</td>\n",
              "      <td>0.025791</td>\n",
              "      <td>0.403993</td>\n",
              "      <td>0.251412</td>\n",
              "      <td>-0.018307</td>\n",
              "      <td>0.277838</td>\n",
              "      <td>-0.110474</td>\n",
              "      <td>0.066928</td>\n",
              "      <td>0.128539</td>\n",
              "      <td>-0.189115</td>\n",
              "      <td>0.133558</td>\n",
              "      <td>-0.021053</td>\n",
              "      <td>149.62</td>\n",
              "      <td>0</td>\n",
              "    </tr>\n",
              "    <tr>\n",
              "      <th>1</th>\n",
              "      <td>0.0</td>\n",
              "      <td>1.191857</td>\n",
              "      <td>0.266151</td>\n",
              "      <td>0.166480</td>\n",
              "      <td>0.448154</td>\n",
              "      <td>0.060018</td>\n",
              "      <td>-0.082361</td>\n",
              "      <td>-0.078803</td>\n",
              "      <td>0.085102</td>\n",
              "      <td>-0.255425</td>\n",
              "      <td>-0.166974</td>\n",
              "      <td>1.612727</td>\n",
              "      <td>1.065235</td>\n",
              "      <td>0.489095</td>\n",
              "      <td>-0.143772</td>\n",
              "      <td>0.635558</td>\n",
              "      <td>0.463917</td>\n",
              "      <td>-0.114805</td>\n",
              "      <td>-0.183361</td>\n",
              "      <td>-0.145783</td>\n",
              "      <td>-0.069083</td>\n",
              "      <td>-0.225775</td>\n",
              "      <td>-0.638672</td>\n",
              "      <td>0.101288</td>\n",
              "      <td>-0.339846</td>\n",
              "      <td>0.167170</td>\n",
              "      <td>0.125895</td>\n",
              "      <td>-0.008983</td>\n",
              "      <td>0.014724</td>\n",
              "      <td>2.69</td>\n",
              "      <td>0</td>\n",
              "    </tr>\n",
              "    <tr>\n",
              "      <th>2</th>\n",
              "      <td>1.0</td>\n",
              "      <td>-1.358354</td>\n",
              "      <td>-1.340163</td>\n",
              "      <td>1.773209</td>\n",
              "      <td>0.379780</td>\n",
              "      <td>-0.503198</td>\n",
              "      <td>1.800499</td>\n",
              "      <td>0.791461</td>\n",
              "      <td>0.247676</td>\n",
              "      <td>-1.514654</td>\n",
              "      <td>0.207643</td>\n",
              "      <td>0.624501</td>\n",
              "      <td>0.066084</td>\n",
              "      <td>0.717293</td>\n",
              "      <td>-0.165946</td>\n",
              "      <td>2.345865</td>\n",
              "      <td>-2.890083</td>\n",
              "      <td>1.109969</td>\n",
              "      <td>-0.121359</td>\n",
              "      <td>-2.261857</td>\n",
              "      <td>0.524980</td>\n",
              "      <td>0.247998</td>\n",
              "      <td>0.771679</td>\n",
              "      <td>0.909412</td>\n",
              "      <td>-0.689281</td>\n",
              "      <td>-0.327642</td>\n",
              "      <td>-0.139097</td>\n",
              "      <td>-0.055353</td>\n",
              "      <td>-0.059752</td>\n",
              "      <td>378.66</td>\n",
              "      <td>0</td>\n",
              "    </tr>\n",
              "    <tr>\n",
              "      <th>3</th>\n",
              "      <td>1.0</td>\n",
              "      <td>-0.966272</td>\n",
              "      <td>-0.185226</td>\n",
              "      <td>1.792993</td>\n",
              "      <td>-0.863291</td>\n",
              "      <td>-0.010309</td>\n",
              "      <td>1.247203</td>\n",
              "      <td>0.237609</td>\n",
              "      <td>0.377436</td>\n",
              "      <td>-1.387024</td>\n",
              "      <td>-0.054952</td>\n",
              "      <td>-0.226487</td>\n",
              "      <td>0.178228</td>\n",
              "      <td>0.507757</td>\n",
              "      <td>-0.287924</td>\n",
              "      <td>-0.631418</td>\n",
              "      <td>-1.059647</td>\n",
              "      <td>-0.684093</td>\n",
              "      <td>1.965775</td>\n",
              "      <td>-1.232622</td>\n",
              "      <td>-0.208038</td>\n",
              "      <td>-0.108300</td>\n",
              "      <td>0.005274</td>\n",
              "      <td>-0.190321</td>\n",
              "      <td>-1.175575</td>\n",
              "      <td>0.647376</td>\n",
              "      <td>-0.221929</td>\n",
              "      <td>0.062723</td>\n",
              "      <td>0.061458</td>\n",
              "      <td>123.50</td>\n",
              "      <td>0</td>\n",
              "    </tr>\n",
              "    <tr>\n",
              "      <th>4</th>\n",
              "      <td>2.0</td>\n",
              "      <td>-1.158233</td>\n",
              "      <td>0.877737</td>\n",
              "      <td>1.548718</td>\n",
              "      <td>0.403034</td>\n",
              "      <td>-0.407193</td>\n",
              "      <td>0.095921</td>\n",
              "      <td>0.592941</td>\n",
              "      <td>-0.270533</td>\n",
              "      <td>0.817739</td>\n",
              "      <td>0.753074</td>\n",
              "      <td>-0.822843</td>\n",
              "      <td>0.538196</td>\n",
              "      <td>1.345852</td>\n",
              "      <td>-1.119670</td>\n",
              "      <td>0.175121</td>\n",
              "      <td>-0.451449</td>\n",
              "      <td>-0.237033</td>\n",
              "      <td>-0.038195</td>\n",
              "      <td>0.803487</td>\n",
              "      <td>0.408542</td>\n",
              "      <td>-0.009431</td>\n",
              "      <td>0.798278</td>\n",
              "      <td>-0.137458</td>\n",
              "      <td>0.141267</td>\n",
              "      <td>-0.206010</td>\n",
              "      <td>0.502292</td>\n",
              "      <td>0.219422</td>\n",
              "      <td>0.215153</td>\n",
              "      <td>69.99</td>\n",
              "      <td>0</td>\n",
              "    </tr>\n",
              "    <tr>\n",
              "      <th>...</th>\n",
              "      <td>...</td>\n",
              "      <td>...</td>\n",
              "      <td>...</td>\n",
              "      <td>...</td>\n",
              "      <td>...</td>\n",
              "      <td>...</td>\n",
              "      <td>...</td>\n",
              "      <td>...</td>\n",
              "      <td>...</td>\n",
              "      <td>...</td>\n",
              "      <td>...</td>\n",
              "      <td>...</td>\n",
              "      <td>...</td>\n",
              "      <td>...</td>\n",
              "      <td>...</td>\n",
              "      <td>...</td>\n",
              "      <td>...</td>\n",
              "      <td>...</td>\n",
              "      <td>...</td>\n",
              "      <td>...</td>\n",
              "      <td>...</td>\n",
              "      <td>...</td>\n",
              "      <td>...</td>\n",
              "      <td>...</td>\n",
              "      <td>...</td>\n",
              "      <td>...</td>\n",
              "      <td>...</td>\n",
              "      <td>...</td>\n",
              "      <td>...</td>\n",
              "      <td>...</td>\n",
              "      <td>...</td>\n",
              "    </tr>\n",
              "    <tr>\n",
              "      <th>284802</th>\n",
              "      <td>172786.0</td>\n",
              "      <td>-11.881118</td>\n",
              "      <td>10.071785</td>\n",
              "      <td>-9.834783</td>\n",
              "      <td>-2.066656</td>\n",
              "      <td>-5.364473</td>\n",
              "      <td>-2.606837</td>\n",
              "      <td>-4.918215</td>\n",
              "      <td>7.305334</td>\n",
              "      <td>1.914428</td>\n",
              "      <td>4.356170</td>\n",
              "      <td>-1.593105</td>\n",
              "      <td>2.711941</td>\n",
              "      <td>-0.689256</td>\n",
              "      <td>4.626942</td>\n",
              "      <td>-0.924459</td>\n",
              "      <td>1.107641</td>\n",
              "      <td>1.991691</td>\n",
              "      <td>0.510632</td>\n",
              "      <td>-0.682920</td>\n",
              "      <td>1.475829</td>\n",
              "      <td>0.213454</td>\n",
              "      <td>0.111864</td>\n",
              "      <td>1.014480</td>\n",
              "      <td>-0.509348</td>\n",
              "      <td>1.436807</td>\n",
              "      <td>0.250034</td>\n",
              "      <td>0.943651</td>\n",
              "      <td>0.823731</td>\n",
              "      <td>0.77</td>\n",
              "      <td>0</td>\n",
              "    </tr>\n",
              "    <tr>\n",
              "      <th>284803</th>\n",
              "      <td>172787.0</td>\n",
              "      <td>-0.732789</td>\n",
              "      <td>-0.055080</td>\n",
              "      <td>2.035030</td>\n",
              "      <td>-0.738589</td>\n",
              "      <td>0.868229</td>\n",
              "      <td>1.058415</td>\n",
              "      <td>0.024330</td>\n",
              "      <td>0.294869</td>\n",
              "      <td>0.584800</td>\n",
              "      <td>-0.975926</td>\n",
              "      <td>-0.150189</td>\n",
              "      <td>0.915802</td>\n",
              "      <td>1.214756</td>\n",
              "      <td>-0.675143</td>\n",
              "      <td>1.164931</td>\n",
              "      <td>-0.711757</td>\n",
              "      <td>-0.025693</td>\n",
              "      <td>-1.221179</td>\n",
              "      <td>-1.545556</td>\n",
              "      <td>0.059616</td>\n",
              "      <td>0.214205</td>\n",
              "      <td>0.924384</td>\n",
              "      <td>0.012463</td>\n",
              "      <td>-1.016226</td>\n",
              "      <td>-0.606624</td>\n",
              "      <td>-0.395255</td>\n",
              "      <td>0.068472</td>\n",
              "      <td>-0.053527</td>\n",
              "      <td>24.79</td>\n",
              "      <td>0</td>\n",
              "    </tr>\n",
              "    <tr>\n",
              "      <th>284804</th>\n",
              "      <td>172788.0</td>\n",
              "      <td>1.919565</td>\n",
              "      <td>-0.301254</td>\n",
              "      <td>-3.249640</td>\n",
              "      <td>-0.557828</td>\n",
              "      <td>2.630515</td>\n",
              "      <td>3.031260</td>\n",
              "      <td>-0.296827</td>\n",
              "      <td>0.708417</td>\n",
              "      <td>0.432454</td>\n",
              "      <td>-0.484782</td>\n",
              "      <td>0.411614</td>\n",
              "      <td>0.063119</td>\n",
              "      <td>-0.183699</td>\n",
              "      <td>-0.510602</td>\n",
              "      <td>1.329284</td>\n",
              "      <td>0.140716</td>\n",
              "      <td>0.313502</td>\n",
              "      <td>0.395652</td>\n",
              "      <td>-0.577252</td>\n",
              "      <td>0.001396</td>\n",
              "      <td>0.232045</td>\n",
              "      <td>0.578229</td>\n",
              "      <td>-0.037501</td>\n",
              "      <td>0.640134</td>\n",
              "      <td>0.265745</td>\n",
              "      <td>-0.087371</td>\n",
              "      <td>0.004455</td>\n",
              "      <td>-0.026561</td>\n",
              "      <td>67.88</td>\n",
              "      <td>0</td>\n",
              "    </tr>\n",
              "    <tr>\n",
              "      <th>284805</th>\n",
              "      <td>172788.0</td>\n",
              "      <td>-0.240440</td>\n",
              "      <td>0.530483</td>\n",
              "      <td>0.702510</td>\n",
              "      <td>0.689799</td>\n",
              "      <td>-0.377961</td>\n",
              "      <td>0.623708</td>\n",
              "      <td>-0.686180</td>\n",
              "      <td>0.679145</td>\n",
              "      <td>0.392087</td>\n",
              "      <td>-0.399126</td>\n",
              "      <td>-1.933849</td>\n",
              "      <td>-0.962886</td>\n",
              "      <td>-1.042082</td>\n",
              "      <td>0.449624</td>\n",
              "      <td>1.962563</td>\n",
              "      <td>-0.608577</td>\n",
              "      <td>0.509928</td>\n",
              "      <td>1.113981</td>\n",
              "      <td>2.897849</td>\n",
              "      <td>0.127434</td>\n",
              "      <td>0.265245</td>\n",
              "      <td>0.800049</td>\n",
              "      <td>-0.163298</td>\n",
              "      <td>0.123205</td>\n",
              "      <td>-0.569159</td>\n",
              "      <td>0.546668</td>\n",
              "      <td>0.108821</td>\n",
              "      <td>0.104533</td>\n",
              "      <td>10.00</td>\n",
              "      <td>0</td>\n",
              "    </tr>\n",
              "    <tr>\n",
              "      <th>284806</th>\n",
              "      <td>172792.0</td>\n",
              "      <td>-0.533413</td>\n",
              "      <td>-0.189733</td>\n",
              "      <td>0.703337</td>\n",
              "      <td>-0.506271</td>\n",
              "      <td>-0.012546</td>\n",
              "      <td>-0.649617</td>\n",
              "      <td>1.577006</td>\n",
              "      <td>-0.414650</td>\n",
              "      <td>0.486180</td>\n",
              "      <td>-0.915427</td>\n",
              "      <td>-1.040458</td>\n",
              "      <td>-0.031513</td>\n",
              "      <td>-0.188093</td>\n",
              "      <td>-0.084316</td>\n",
              "      <td>0.041333</td>\n",
              "      <td>-0.302620</td>\n",
              "      <td>-0.660377</td>\n",
              "      <td>0.167430</td>\n",
              "      <td>-0.256117</td>\n",
              "      <td>0.382948</td>\n",
              "      <td>0.261057</td>\n",
              "      <td>0.643078</td>\n",
              "      <td>0.376777</td>\n",
              "      <td>0.008797</td>\n",
              "      <td>-0.473649</td>\n",
              "      <td>-0.818267</td>\n",
              "      <td>-0.002415</td>\n",
              "      <td>0.013649</td>\n",
              "      <td>217.00</td>\n",
              "      <td>0</td>\n",
              "    </tr>\n",
              "  </tbody>\n",
              "</table>\n",
              "<p>284807 rows × 31 columns</p>\n",
              "</div>"
            ],
            "text/plain": [
              "            Time         V1         V2  ...       V28  Amount  Class\n",
              "0            0.0  -1.359807  -0.072781  ... -0.021053  149.62      0\n",
              "1            0.0   1.191857   0.266151  ...  0.014724    2.69      0\n",
              "2            1.0  -1.358354  -1.340163  ... -0.059752  378.66      0\n",
              "3            1.0  -0.966272  -0.185226  ...  0.061458  123.50      0\n",
              "4            2.0  -1.158233   0.877737  ...  0.215153   69.99      0\n",
              "...          ...        ...        ...  ...       ...     ...    ...\n",
              "284802  172786.0 -11.881118  10.071785  ...  0.823731    0.77      0\n",
              "284803  172787.0  -0.732789  -0.055080  ... -0.053527   24.79      0\n",
              "284804  172788.0   1.919565  -0.301254  ... -0.026561   67.88      0\n",
              "284805  172788.0  -0.240440   0.530483  ...  0.104533   10.00      0\n",
              "284806  172792.0  -0.533413  -0.189733  ...  0.013649  217.00      0\n",
              "\n",
              "[284807 rows x 31 columns]"
            ]
          },
          "metadata": {},
          "execution_count": 95
        }
      ]
    },
    {
      "cell_type": "code",
      "metadata": {
        "colab": {
          "base_uri": "https://localhost:8080/"
        },
        "id": "kOh3O3dXY0W_",
        "outputId": "344ec464-cd0e-4380-d75d-1a3911f1b3cc"
      },
      "source": [
        "df.isnull().sum()"
      ],
      "execution_count": 96,
      "outputs": [
        {
          "output_type": "execute_result",
          "data": {
            "text/plain": [
              "Time      0\n",
              "V1        0\n",
              "V2        0\n",
              "V3        0\n",
              "V4        0\n",
              "V5        0\n",
              "V6        0\n",
              "V7        0\n",
              "V8        0\n",
              "V9        0\n",
              "V10       0\n",
              "V11       0\n",
              "V12       0\n",
              "V13       0\n",
              "V14       0\n",
              "V15       0\n",
              "V16       0\n",
              "V17       0\n",
              "V18       0\n",
              "V19       0\n",
              "V20       0\n",
              "V21       0\n",
              "V22       0\n",
              "V23       0\n",
              "V24       0\n",
              "V25       0\n",
              "V26       0\n",
              "V27       0\n",
              "V28       0\n",
              "Amount    0\n",
              "Class     0\n",
              "dtype: int64"
            ]
          },
          "metadata": {},
          "execution_count": 96
        }
      ]
    },
    {
      "cell_type": "code",
      "metadata": {
        "colab": {
          "base_uri": "https://localhost:8080/"
        },
        "id": "wJIjuUQRbOR-",
        "outputId": "ef79b546-fdda-445c-9162-f2d41516f700"
      },
      "source": [
        "df.Class.value_counts()"
      ],
      "execution_count": 97,
      "outputs": [
        {
          "output_type": "execute_result",
          "data": {
            "text/plain": [
              "0    284315\n",
              "1       492\n",
              "Name: Class, dtype: int64"
            ]
          },
          "metadata": {},
          "execution_count": 97
        }
      ]
    },
    {
      "cell_type": "code",
      "metadata": {
        "colab": {
          "base_uri": "https://localhost:8080/"
        },
        "id": "_tUkE8t8bTGc",
        "outputId": "cf47a50f-0760-45c1-c58a-b7d556b87557"
      },
      "source": [
        "not_fraud=df[df.Class==0]\n",
        "fraud=df[df.Class==1]\n",
        "print(not_fraud.shape)\n",
        "print(fraud.shape)"
      ],
      "execution_count": 98,
      "outputs": [
        {
          "output_type": "stream",
          "name": "stdout",
          "text": [
            "(284315, 31)\n",
            "(492, 31)\n"
          ]
        }
      ]
    },
    {
      "cell_type": "code",
      "metadata": {
        "colab": {
          "base_uri": "https://localhost:8080/",
          "height": 444
        },
        "id": "IErAKgAGbiMB",
        "outputId": "ef9858d6-a649-4353-91f4-a88832833212"
      },
      "source": [
        "not_fraud_sample=not_fraud.sample(n=600)\n",
        "not_fraud_sample"
      ],
      "execution_count": 99,
      "outputs": [
        {
          "output_type": "execute_result",
          "data": {
            "text/html": [
              "<div>\n",
              "<style scoped>\n",
              "    .dataframe tbody tr th:only-of-type {\n",
              "        vertical-align: middle;\n",
              "    }\n",
              "\n",
              "    .dataframe tbody tr th {\n",
              "        vertical-align: top;\n",
              "    }\n",
              "\n",
              "    .dataframe thead th {\n",
              "        text-align: right;\n",
              "    }\n",
              "</style>\n",
              "<table border=\"1\" class=\"dataframe\">\n",
              "  <thead>\n",
              "    <tr style=\"text-align: right;\">\n",
              "      <th></th>\n",
              "      <th>Time</th>\n",
              "      <th>V1</th>\n",
              "      <th>V2</th>\n",
              "      <th>V3</th>\n",
              "      <th>V4</th>\n",
              "      <th>V5</th>\n",
              "      <th>V6</th>\n",
              "      <th>V7</th>\n",
              "      <th>V8</th>\n",
              "      <th>V9</th>\n",
              "      <th>V10</th>\n",
              "      <th>V11</th>\n",
              "      <th>V12</th>\n",
              "      <th>V13</th>\n",
              "      <th>V14</th>\n",
              "      <th>V15</th>\n",
              "      <th>V16</th>\n",
              "      <th>V17</th>\n",
              "      <th>V18</th>\n",
              "      <th>V19</th>\n",
              "      <th>V20</th>\n",
              "      <th>V21</th>\n",
              "      <th>V22</th>\n",
              "      <th>V23</th>\n",
              "      <th>V24</th>\n",
              "      <th>V25</th>\n",
              "      <th>V26</th>\n",
              "      <th>V27</th>\n",
              "      <th>V28</th>\n",
              "      <th>Amount</th>\n",
              "      <th>Class</th>\n",
              "    </tr>\n",
              "  </thead>\n",
              "  <tbody>\n",
              "    <tr>\n",
              "      <th>37906</th>\n",
              "      <td>39163.0</td>\n",
              "      <td>-0.363913</td>\n",
              "      <td>0.853399</td>\n",
              "      <td>1.648195</td>\n",
              "      <td>1.118934</td>\n",
              "      <td>0.100882</td>\n",
              "      <td>0.423852</td>\n",
              "      <td>0.472790</td>\n",
              "      <td>-0.972440</td>\n",
              "      <td>0.033833</td>\n",
              "      <td>0.629036</td>\n",
              "      <td>1.257913</td>\n",
              "      <td>-0.161244</td>\n",
              "      <td>-2.001477</td>\n",
              "      <td>0.260308</td>\n",
              "      <td>0.189953</td>\n",
              "      <td>-0.844019</td>\n",
              "      <td>0.173619</td>\n",
              "      <td>-0.021524</td>\n",
              "      <td>0.810267</td>\n",
              "      <td>-0.192932</td>\n",
              "      <td>0.687055</td>\n",
              "      <td>-0.094586</td>\n",
              "      <td>0.121531</td>\n",
              "      <td>0.146830</td>\n",
              "      <td>-0.944092</td>\n",
              "      <td>-0.558564</td>\n",
              "      <td>-0.186814</td>\n",
              "      <td>-0.257103</td>\n",
              "      <td>18.49</td>\n",
              "      <td>0</td>\n",
              "    </tr>\n",
              "    <tr>\n",
              "      <th>65786</th>\n",
              "      <td>51746.0</td>\n",
              "      <td>-3.519614</td>\n",
              "      <td>2.536332</td>\n",
              "      <td>-0.026131</td>\n",
              "      <td>-1.602166</td>\n",
              "      <td>-0.621636</td>\n",
              "      <td>0.414622</td>\n",
              "      <td>-1.507886</td>\n",
              "      <td>-3.958855</td>\n",
              "      <td>0.215441</td>\n",
              "      <td>0.345503</td>\n",
              "      <td>1.322647</td>\n",
              "      <td>1.582398</td>\n",
              "      <td>0.303354</td>\n",
              "      <td>0.584151</td>\n",
              "      <td>-0.200143</td>\n",
              "      <td>0.508231</td>\n",
              "      <td>-0.042437</td>\n",
              "      <td>-0.349111</td>\n",
              "      <td>-0.849185</td>\n",
              "      <td>-1.028264</td>\n",
              "      <td>4.538764</td>\n",
              "      <td>-1.411486</td>\n",
              "      <td>0.807824</td>\n",
              "      <td>-0.016118</td>\n",
              "      <td>-0.101682</td>\n",
              "      <td>0.795826</td>\n",
              "      <td>0.220508</td>\n",
              "      <td>-0.069912</td>\n",
              "      <td>3.84</td>\n",
              "      <td>0</td>\n",
              "    </tr>\n",
              "    <tr>\n",
              "      <th>160537</th>\n",
              "      <td>113441.0</td>\n",
              "      <td>2.049175</td>\n",
              "      <td>-0.073552</td>\n",
              "      <td>-1.070875</td>\n",
              "      <td>0.411765</td>\n",
              "      <td>-0.123902</td>\n",
              "      <td>-1.130802</td>\n",
              "      <td>0.165877</td>\n",
              "      <td>-0.303766</td>\n",
              "      <td>0.555612</td>\n",
              "      <td>0.066876</td>\n",
              "      <td>-0.708484</td>\n",
              "      <td>0.402940</td>\n",
              "      <td>-0.044283</td>\n",
              "      <td>0.302433</td>\n",
              "      <td>0.099161</td>\n",
              "      <td>-0.158584</td>\n",
              "      <td>-0.225636</td>\n",
              "      <td>-0.945264</td>\n",
              "      <td>0.074249</td>\n",
              "      <td>-0.232985</td>\n",
              "      <td>-0.283278</td>\n",
              "      <td>-0.685189</td>\n",
              "      <td>0.346289</td>\n",
              "      <td>-0.015979</td>\n",
              "      <td>-0.317788</td>\n",
              "      <td>0.201182</td>\n",
              "      <td>-0.068654</td>\n",
              "      <td>-0.060345</td>\n",
              "      <td>3.96</td>\n",
              "      <td>0</td>\n",
              "    </tr>\n",
              "    <tr>\n",
              "      <th>78817</th>\n",
              "      <td>57720.0</td>\n",
              "      <td>1.156016</td>\n",
              "      <td>-0.194637</td>\n",
              "      <td>1.134508</td>\n",
              "      <td>0.668555</td>\n",
              "      <td>-0.833187</td>\n",
              "      <td>0.222149</td>\n",
              "      <td>-0.698322</td>\n",
              "      <td>0.213485</td>\n",
              "      <td>0.620849</td>\n",
              "      <td>-0.086313</td>\n",
              "      <td>0.754228</td>\n",
              "      <td>1.275287</td>\n",
              "      <td>0.495554</td>\n",
              "      <td>-0.324525</td>\n",
              "      <td>-0.528618</td>\n",
              "      <td>0.433001</td>\n",
              "      <td>-0.571645</td>\n",
              "      <td>0.308677</td>\n",
              "      <td>0.368548</td>\n",
              "      <td>-0.041803</td>\n",
              "      <td>-0.054282</td>\n",
              "      <td>0.019254</td>\n",
              "      <td>-0.029858</td>\n",
              "      <td>0.065033</td>\n",
              "      <td>0.283199</td>\n",
              "      <td>0.317354</td>\n",
              "      <td>0.015171</td>\n",
              "      <td>0.015398</td>\n",
              "      <td>12.04</td>\n",
              "      <td>0</td>\n",
              "    </tr>\n",
              "    <tr>\n",
              "      <th>265574</th>\n",
              "      <td>161946.0</td>\n",
              "      <td>-0.483227</td>\n",
              "      <td>1.349745</td>\n",
              "      <td>-1.052946</td>\n",
              "      <td>-0.294510</td>\n",
              "      <td>0.622144</td>\n",
              "      <td>-0.937667</td>\n",
              "      <td>0.548693</td>\n",
              "      <td>0.137235</td>\n",
              "      <td>-0.364194</td>\n",
              "      <td>-0.740811</td>\n",
              "      <td>0.838918</td>\n",
              "      <td>0.627717</td>\n",
              "      <td>0.319245</td>\n",
              "      <td>-0.583821</td>\n",
              "      <td>-0.035029</td>\n",
              "      <td>0.426967</td>\n",
              "      <td>0.282096</td>\n",
              "      <td>1.319249</td>\n",
              "      <td>0.230614</td>\n",
              "      <td>-0.225825</td>\n",
              "      <td>0.432052</td>\n",
              "      <td>1.076996</td>\n",
              "      <td>-0.211492</td>\n",
              "      <td>-0.399012</td>\n",
              "      <td>-0.379300</td>\n",
              "      <td>-0.195370</td>\n",
              "      <td>-0.402243</td>\n",
              "      <td>0.079387</td>\n",
              "      <td>7.00</td>\n",
              "      <td>0</td>\n",
              "    </tr>\n",
              "    <tr>\n",
              "      <th>...</th>\n",
              "      <td>...</td>\n",
              "      <td>...</td>\n",
              "      <td>...</td>\n",
              "      <td>...</td>\n",
              "      <td>...</td>\n",
              "      <td>...</td>\n",
              "      <td>...</td>\n",
              "      <td>...</td>\n",
              "      <td>...</td>\n",
              "      <td>...</td>\n",
              "      <td>...</td>\n",
              "      <td>...</td>\n",
              "      <td>...</td>\n",
              "      <td>...</td>\n",
              "      <td>...</td>\n",
              "      <td>...</td>\n",
              "      <td>...</td>\n",
              "      <td>...</td>\n",
              "      <td>...</td>\n",
              "      <td>...</td>\n",
              "      <td>...</td>\n",
              "      <td>...</td>\n",
              "      <td>...</td>\n",
              "      <td>...</td>\n",
              "      <td>...</td>\n",
              "      <td>...</td>\n",
              "      <td>...</td>\n",
              "      <td>...</td>\n",
              "      <td>...</td>\n",
              "      <td>...</td>\n",
              "      <td>...</td>\n",
              "    </tr>\n",
              "    <tr>\n",
              "      <th>180377</th>\n",
              "      <td>124514.0</td>\n",
              "      <td>1.742922</td>\n",
              "      <td>-0.647790</td>\n",
              "      <td>0.305097</td>\n",
              "      <td>1.261534</td>\n",
              "      <td>-0.924186</td>\n",
              "      <td>0.504265</td>\n",
              "      <td>-1.061840</td>\n",
              "      <td>0.316405</td>\n",
              "      <td>1.160908</td>\n",
              "      <td>0.264287</td>\n",
              "      <td>0.405127</td>\n",
              "      <td>0.962022</td>\n",
              "      <td>0.245011</td>\n",
              "      <td>-0.213263</td>\n",
              "      <td>0.199285</td>\n",
              "      <td>0.981017</td>\n",
              "      <td>-1.183565</td>\n",
              "      <td>1.140524</td>\n",
              "      <td>-0.541722</td>\n",
              "      <td>-0.076276</td>\n",
              "      <td>0.333013</td>\n",
              "      <td>0.982415</td>\n",
              "      <td>0.087193</td>\n",
              "      <td>-0.408708</td>\n",
              "      <td>-0.332487</td>\n",
              "      <td>-0.588792</td>\n",
              "      <td>0.082740</td>\n",
              "      <td>-0.017743</td>\n",
              "      <td>76.99</td>\n",
              "      <td>0</td>\n",
              "    </tr>\n",
              "    <tr>\n",
              "      <th>216570</th>\n",
              "      <td>140534.0</td>\n",
              "      <td>1.889312</td>\n",
              "      <td>-0.509207</td>\n",
              "      <td>0.190841</td>\n",
              "      <td>1.122803</td>\n",
              "      <td>-0.723133</td>\n",
              "      <td>0.698951</td>\n",
              "      <td>-1.194959</td>\n",
              "      <td>0.394419</td>\n",
              "      <td>1.292276</td>\n",
              "      <td>0.312105</td>\n",
              "      <td>-0.066652</td>\n",
              "      <td>0.487237</td>\n",
              "      <td>-0.331551</td>\n",
              "      <td>-0.124741</td>\n",
              "      <td>0.291048</td>\n",
              "      <td>1.120946</td>\n",
              "      <td>-1.296278</td>\n",
              "      <td>1.338249</td>\n",
              "      <td>-0.365174</td>\n",
              "      <td>-0.228669</td>\n",
              "      <td>0.261945</td>\n",
              "      <td>0.888001</td>\n",
              "      <td>0.098741</td>\n",
              "      <td>-0.835020</td>\n",
              "      <td>-0.277471</td>\n",
              "      <td>-0.555004</td>\n",
              "      <td>0.089620</td>\n",
              "      <td>-0.033884</td>\n",
              "      <td>15.74</td>\n",
              "      <td>0</td>\n",
              "    </tr>\n",
              "    <tr>\n",
              "      <th>36232</th>\n",
              "      <td>38446.0</td>\n",
              "      <td>1.073804</td>\n",
              "      <td>-0.186612</td>\n",
              "      <td>1.288873</td>\n",
              "      <td>1.291157</td>\n",
              "      <td>-0.959709</td>\n",
              "      <td>0.373231</td>\n",
              "      <td>-0.867614</td>\n",
              "      <td>0.447484</td>\n",
              "      <td>0.721339</td>\n",
              "      <td>0.101486</td>\n",
              "      <td>1.071992</td>\n",
              "      <td>0.182411</td>\n",
              "      <td>-1.906395</td>\n",
              "      <td>0.344228</td>\n",
              "      <td>0.322273</td>\n",
              "      <td>0.215267</td>\n",
              "      <td>-0.213688</td>\n",
              "      <td>0.408541</td>\n",
              "      <td>-0.616782</td>\n",
              "      <td>-0.289685</td>\n",
              "      <td>0.192100</td>\n",
              "      <td>0.646243</td>\n",
              "      <td>-0.019463</td>\n",
              "      <td>0.201844</td>\n",
              "      <td>0.314844</td>\n",
              "      <td>-0.236406</td>\n",
              "      <td>0.069436</td>\n",
              "      <td>0.019687</td>\n",
              "      <td>1.00</td>\n",
              "      <td>0</td>\n",
              "    </tr>\n",
              "    <tr>\n",
              "      <th>24640</th>\n",
              "      <td>33311.0</td>\n",
              "      <td>-0.462231</td>\n",
              "      <td>1.030745</td>\n",
              "      <td>1.679053</td>\n",
              "      <td>-0.104844</td>\n",
              "      <td>-0.093705</td>\n",
              "      <td>-0.683635</td>\n",
              "      <td>0.620183</td>\n",
              "      <td>0.054538</td>\n",
              "      <td>-0.703537</td>\n",
              "      <td>-0.149031</td>\n",
              "      <td>1.521162</td>\n",
              "      <td>0.828134</td>\n",
              "      <td>0.139110</td>\n",
              "      <td>0.304935</td>\n",
              "      <td>0.107122</td>\n",
              "      <td>0.324286</td>\n",
              "      <td>-0.582727</td>\n",
              "      <td>0.047271</td>\n",
              "      <td>0.225268</td>\n",
              "      <td>0.110077</td>\n",
              "      <td>-0.161907</td>\n",
              "      <td>-0.425304</td>\n",
              "      <td>-0.017754</td>\n",
              "      <td>0.522887</td>\n",
              "      <td>-0.244769</td>\n",
              "      <td>0.040400</td>\n",
              "      <td>0.264163</td>\n",
              "      <td>0.113105</td>\n",
              "      <td>0.89</td>\n",
              "      <td>0</td>\n",
              "    </tr>\n",
              "    <tr>\n",
              "      <th>167254</th>\n",
              "      <td>118574.0</td>\n",
              "      <td>-1.256499</td>\n",
              "      <td>-0.408368</td>\n",
              "      <td>0.100400</td>\n",
              "      <td>1.397182</td>\n",
              "      <td>2.446066</td>\n",
              "      <td>-1.913203</td>\n",
              "      <td>0.253714</td>\n",
              "      <td>-0.137430</td>\n",
              "      <td>-0.499257</td>\n",
              "      <td>0.161755</td>\n",
              "      <td>-1.129088</td>\n",
              "      <td>-0.055459</td>\n",
              "      <td>-0.375699</td>\n",
              "      <td>0.594903</td>\n",
              "      <td>-0.239932</td>\n",
              "      <td>-1.249027</td>\n",
              "      <td>0.235705</td>\n",
              "      <td>-0.302328</td>\n",
              "      <td>0.770657</td>\n",
              "      <td>0.458163</td>\n",
              "      <td>0.242837</td>\n",
              "      <td>0.554162</td>\n",
              "      <td>0.008927</td>\n",
              "      <td>-0.005274</td>\n",
              "      <td>0.089411</td>\n",
              "      <td>-0.373775</td>\n",
              "      <td>0.382712</td>\n",
              "      <td>0.275238</td>\n",
              "      <td>1.00</td>\n",
              "      <td>0</td>\n",
              "    </tr>\n",
              "  </tbody>\n",
              "</table>\n",
              "<p>600 rows × 31 columns</p>\n",
              "</div>"
            ],
            "text/plain": [
              "            Time        V1        V2  ...       V28  Amount  Class\n",
              "37906    39163.0 -0.363913  0.853399  ... -0.257103   18.49      0\n",
              "65786    51746.0 -3.519614  2.536332  ... -0.069912    3.84      0\n",
              "160537  113441.0  2.049175 -0.073552  ... -0.060345    3.96      0\n",
              "78817    57720.0  1.156016 -0.194637  ...  0.015398   12.04      0\n",
              "265574  161946.0 -0.483227  1.349745  ...  0.079387    7.00      0\n",
              "...          ...       ...       ...  ...       ...     ...    ...\n",
              "180377  124514.0  1.742922 -0.647790  ... -0.017743   76.99      0\n",
              "216570  140534.0  1.889312 -0.509207  ... -0.033884   15.74      0\n",
              "36232    38446.0  1.073804 -0.186612  ...  0.019687    1.00      0\n",
              "24640    33311.0 -0.462231  1.030745  ...  0.113105    0.89      0\n",
              "167254  118574.0 -1.256499 -0.408368  ...  0.275238    1.00      0\n",
              "\n",
              "[600 rows x 31 columns]"
            ]
          },
          "metadata": {},
          "execution_count": 99
        }
      ]
    },
    {
      "cell_type": "code",
      "metadata": {
        "colab": {
          "base_uri": "https://localhost:8080/",
          "height": 444
        },
        "id": "RUe73Mnnb9KA",
        "outputId": "4901d132-6bb2-4661-ea1b-d0e4e986605c"
      },
      "source": [
        "new_df=pd.concat([not_fraud_sample,fraud],axis=0)\n",
        "new_df"
      ],
      "execution_count": 100,
      "outputs": [
        {
          "output_type": "execute_result",
          "data": {
            "text/html": [
              "<div>\n",
              "<style scoped>\n",
              "    .dataframe tbody tr th:only-of-type {\n",
              "        vertical-align: middle;\n",
              "    }\n",
              "\n",
              "    .dataframe tbody tr th {\n",
              "        vertical-align: top;\n",
              "    }\n",
              "\n",
              "    .dataframe thead th {\n",
              "        text-align: right;\n",
              "    }\n",
              "</style>\n",
              "<table border=\"1\" class=\"dataframe\">\n",
              "  <thead>\n",
              "    <tr style=\"text-align: right;\">\n",
              "      <th></th>\n",
              "      <th>Time</th>\n",
              "      <th>V1</th>\n",
              "      <th>V2</th>\n",
              "      <th>V3</th>\n",
              "      <th>V4</th>\n",
              "      <th>V5</th>\n",
              "      <th>V6</th>\n",
              "      <th>V7</th>\n",
              "      <th>V8</th>\n",
              "      <th>V9</th>\n",
              "      <th>V10</th>\n",
              "      <th>V11</th>\n",
              "      <th>V12</th>\n",
              "      <th>V13</th>\n",
              "      <th>V14</th>\n",
              "      <th>V15</th>\n",
              "      <th>V16</th>\n",
              "      <th>V17</th>\n",
              "      <th>V18</th>\n",
              "      <th>V19</th>\n",
              "      <th>V20</th>\n",
              "      <th>V21</th>\n",
              "      <th>V22</th>\n",
              "      <th>V23</th>\n",
              "      <th>V24</th>\n",
              "      <th>V25</th>\n",
              "      <th>V26</th>\n",
              "      <th>V27</th>\n",
              "      <th>V28</th>\n",
              "      <th>Amount</th>\n",
              "      <th>Class</th>\n",
              "    </tr>\n",
              "  </thead>\n",
              "  <tbody>\n",
              "    <tr>\n",
              "      <th>37906</th>\n",
              "      <td>39163.0</td>\n",
              "      <td>-0.363913</td>\n",
              "      <td>0.853399</td>\n",
              "      <td>1.648195</td>\n",
              "      <td>1.118934</td>\n",
              "      <td>0.100882</td>\n",
              "      <td>0.423852</td>\n",
              "      <td>0.472790</td>\n",
              "      <td>-0.972440</td>\n",
              "      <td>0.033833</td>\n",
              "      <td>0.629036</td>\n",
              "      <td>1.257913</td>\n",
              "      <td>-0.161244</td>\n",
              "      <td>-2.001477</td>\n",
              "      <td>0.260308</td>\n",
              "      <td>0.189953</td>\n",
              "      <td>-0.844019</td>\n",
              "      <td>0.173619</td>\n",
              "      <td>-0.021524</td>\n",
              "      <td>0.810267</td>\n",
              "      <td>-0.192932</td>\n",
              "      <td>0.687055</td>\n",
              "      <td>-0.094586</td>\n",
              "      <td>0.121531</td>\n",
              "      <td>0.146830</td>\n",
              "      <td>-0.944092</td>\n",
              "      <td>-0.558564</td>\n",
              "      <td>-0.186814</td>\n",
              "      <td>-0.257103</td>\n",
              "      <td>18.49</td>\n",
              "      <td>0</td>\n",
              "    </tr>\n",
              "    <tr>\n",
              "      <th>65786</th>\n",
              "      <td>51746.0</td>\n",
              "      <td>-3.519614</td>\n",
              "      <td>2.536332</td>\n",
              "      <td>-0.026131</td>\n",
              "      <td>-1.602166</td>\n",
              "      <td>-0.621636</td>\n",
              "      <td>0.414622</td>\n",
              "      <td>-1.507886</td>\n",
              "      <td>-3.958855</td>\n",
              "      <td>0.215441</td>\n",
              "      <td>0.345503</td>\n",
              "      <td>1.322647</td>\n",
              "      <td>1.582398</td>\n",
              "      <td>0.303354</td>\n",
              "      <td>0.584151</td>\n",
              "      <td>-0.200143</td>\n",
              "      <td>0.508231</td>\n",
              "      <td>-0.042437</td>\n",
              "      <td>-0.349111</td>\n",
              "      <td>-0.849185</td>\n",
              "      <td>-1.028264</td>\n",
              "      <td>4.538764</td>\n",
              "      <td>-1.411486</td>\n",
              "      <td>0.807824</td>\n",
              "      <td>-0.016118</td>\n",
              "      <td>-0.101682</td>\n",
              "      <td>0.795826</td>\n",
              "      <td>0.220508</td>\n",
              "      <td>-0.069912</td>\n",
              "      <td>3.84</td>\n",
              "      <td>0</td>\n",
              "    </tr>\n",
              "    <tr>\n",
              "      <th>160537</th>\n",
              "      <td>113441.0</td>\n",
              "      <td>2.049175</td>\n",
              "      <td>-0.073552</td>\n",
              "      <td>-1.070875</td>\n",
              "      <td>0.411765</td>\n",
              "      <td>-0.123902</td>\n",
              "      <td>-1.130802</td>\n",
              "      <td>0.165877</td>\n",
              "      <td>-0.303766</td>\n",
              "      <td>0.555612</td>\n",
              "      <td>0.066876</td>\n",
              "      <td>-0.708484</td>\n",
              "      <td>0.402940</td>\n",
              "      <td>-0.044283</td>\n",
              "      <td>0.302433</td>\n",
              "      <td>0.099161</td>\n",
              "      <td>-0.158584</td>\n",
              "      <td>-0.225636</td>\n",
              "      <td>-0.945264</td>\n",
              "      <td>0.074249</td>\n",
              "      <td>-0.232985</td>\n",
              "      <td>-0.283278</td>\n",
              "      <td>-0.685189</td>\n",
              "      <td>0.346289</td>\n",
              "      <td>-0.015979</td>\n",
              "      <td>-0.317788</td>\n",
              "      <td>0.201182</td>\n",
              "      <td>-0.068654</td>\n",
              "      <td>-0.060345</td>\n",
              "      <td>3.96</td>\n",
              "      <td>0</td>\n",
              "    </tr>\n",
              "    <tr>\n",
              "      <th>78817</th>\n",
              "      <td>57720.0</td>\n",
              "      <td>1.156016</td>\n",
              "      <td>-0.194637</td>\n",
              "      <td>1.134508</td>\n",
              "      <td>0.668555</td>\n",
              "      <td>-0.833187</td>\n",
              "      <td>0.222149</td>\n",
              "      <td>-0.698322</td>\n",
              "      <td>0.213485</td>\n",
              "      <td>0.620849</td>\n",
              "      <td>-0.086313</td>\n",
              "      <td>0.754228</td>\n",
              "      <td>1.275287</td>\n",
              "      <td>0.495554</td>\n",
              "      <td>-0.324525</td>\n",
              "      <td>-0.528618</td>\n",
              "      <td>0.433001</td>\n",
              "      <td>-0.571645</td>\n",
              "      <td>0.308677</td>\n",
              "      <td>0.368548</td>\n",
              "      <td>-0.041803</td>\n",
              "      <td>-0.054282</td>\n",
              "      <td>0.019254</td>\n",
              "      <td>-0.029858</td>\n",
              "      <td>0.065033</td>\n",
              "      <td>0.283199</td>\n",
              "      <td>0.317354</td>\n",
              "      <td>0.015171</td>\n",
              "      <td>0.015398</td>\n",
              "      <td>12.04</td>\n",
              "      <td>0</td>\n",
              "    </tr>\n",
              "    <tr>\n",
              "      <th>265574</th>\n",
              "      <td>161946.0</td>\n",
              "      <td>-0.483227</td>\n",
              "      <td>1.349745</td>\n",
              "      <td>-1.052946</td>\n",
              "      <td>-0.294510</td>\n",
              "      <td>0.622144</td>\n",
              "      <td>-0.937667</td>\n",
              "      <td>0.548693</td>\n",
              "      <td>0.137235</td>\n",
              "      <td>-0.364194</td>\n",
              "      <td>-0.740811</td>\n",
              "      <td>0.838918</td>\n",
              "      <td>0.627717</td>\n",
              "      <td>0.319245</td>\n",
              "      <td>-0.583821</td>\n",
              "      <td>-0.035029</td>\n",
              "      <td>0.426967</td>\n",
              "      <td>0.282096</td>\n",
              "      <td>1.319249</td>\n",
              "      <td>0.230614</td>\n",
              "      <td>-0.225825</td>\n",
              "      <td>0.432052</td>\n",
              "      <td>1.076996</td>\n",
              "      <td>-0.211492</td>\n",
              "      <td>-0.399012</td>\n",
              "      <td>-0.379300</td>\n",
              "      <td>-0.195370</td>\n",
              "      <td>-0.402243</td>\n",
              "      <td>0.079387</td>\n",
              "      <td>7.00</td>\n",
              "      <td>0</td>\n",
              "    </tr>\n",
              "    <tr>\n",
              "      <th>...</th>\n",
              "      <td>...</td>\n",
              "      <td>...</td>\n",
              "      <td>...</td>\n",
              "      <td>...</td>\n",
              "      <td>...</td>\n",
              "      <td>...</td>\n",
              "      <td>...</td>\n",
              "      <td>...</td>\n",
              "      <td>...</td>\n",
              "      <td>...</td>\n",
              "      <td>...</td>\n",
              "      <td>...</td>\n",
              "      <td>...</td>\n",
              "      <td>...</td>\n",
              "      <td>...</td>\n",
              "      <td>...</td>\n",
              "      <td>...</td>\n",
              "      <td>...</td>\n",
              "      <td>...</td>\n",
              "      <td>...</td>\n",
              "      <td>...</td>\n",
              "      <td>...</td>\n",
              "      <td>...</td>\n",
              "      <td>...</td>\n",
              "      <td>...</td>\n",
              "      <td>...</td>\n",
              "      <td>...</td>\n",
              "      <td>...</td>\n",
              "      <td>...</td>\n",
              "      <td>...</td>\n",
              "      <td>...</td>\n",
              "    </tr>\n",
              "    <tr>\n",
              "      <th>279863</th>\n",
              "      <td>169142.0</td>\n",
              "      <td>-1.927883</td>\n",
              "      <td>1.125653</td>\n",
              "      <td>-4.518331</td>\n",
              "      <td>1.749293</td>\n",
              "      <td>-1.566487</td>\n",
              "      <td>-2.010494</td>\n",
              "      <td>-0.882850</td>\n",
              "      <td>0.697211</td>\n",
              "      <td>-2.064945</td>\n",
              "      <td>-5.587794</td>\n",
              "      <td>2.115795</td>\n",
              "      <td>-5.417424</td>\n",
              "      <td>-1.235123</td>\n",
              "      <td>-6.665177</td>\n",
              "      <td>0.401701</td>\n",
              "      <td>-2.897825</td>\n",
              "      <td>-4.570529</td>\n",
              "      <td>-1.315147</td>\n",
              "      <td>0.391167</td>\n",
              "      <td>1.252967</td>\n",
              "      <td>0.778584</td>\n",
              "      <td>-0.319189</td>\n",
              "      <td>0.639419</td>\n",
              "      <td>-0.294885</td>\n",
              "      <td>0.537503</td>\n",
              "      <td>0.788395</td>\n",
              "      <td>0.292680</td>\n",
              "      <td>0.147968</td>\n",
              "      <td>390.00</td>\n",
              "      <td>1</td>\n",
              "    </tr>\n",
              "    <tr>\n",
              "      <th>280143</th>\n",
              "      <td>169347.0</td>\n",
              "      <td>1.378559</td>\n",
              "      <td>1.289381</td>\n",
              "      <td>-5.004247</td>\n",
              "      <td>1.411850</td>\n",
              "      <td>0.442581</td>\n",
              "      <td>-1.326536</td>\n",
              "      <td>-1.413170</td>\n",
              "      <td>0.248525</td>\n",
              "      <td>-1.127396</td>\n",
              "      <td>-3.232153</td>\n",
              "      <td>2.858466</td>\n",
              "      <td>-3.096915</td>\n",
              "      <td>-0.792532</td>\n",
              "      <td>-5.210141</td>\n",
              "      <td>-0.613803</td>\n",
              "      <td>-2.155297</td>\n",
              "      <td>-3.267116</td>\n",
              "      <td>-0.688505</td>\n",
              "      <td>0.737657</td>\n",
              "      <td>0.226138</td>\n",
              "      <td>0.370612</td>\n",
              "      <td>0.028234</td>\n",
              "      <td>-0.145640</td>\n",
              "      <td>-0.081049</td>\n",
              "      <td>0.521875</td>\n",
              "      <td>0.739467</td>\n",
              "      <td>0.389152</td>\n",
              "      <td>0.186637</td>\n",
              "      <td>0.76</td>\n",
              "      <td>1</td>\n",
              "    </tr>\n",
              "    <tr>\n",
              "      <th>280149</th>\n",
              "      <td>169351.0</td>\n",
              "      <td>-0.676143</td>\n",
              "      <td>1.126366</td>\n",
              "      <td>-2.213700</td>\n",
              "      <td>0.468308</td>\n",
              "      <td>-1.120541</td>\n",
              "      <td>-0.003346</td>\n",
              "      <td>-2.234739</td>\n",
              "      <td>1.210158</td>\n",
              "      <td>-0.652250</td>\n",
              "      <td>-3.463891</td>\n",
              "      <td>1.794969</td>\n",
              "      <td>-2.775022</td>\n",
              "      <td>-0.418950</td>\n",
              "      <td>-4.057162</td>\n",
              "      <td>-0.712616</td>\n",
              "      <td>-1.603015</td>\n",
              "      <td>-5.035326</td>\n",
              "      <td>-0.507000</td>\n",
              "      <td>0.266272</td>\n",
              "      <td>0.247968</td>\n",
              "      <td>0.751826</td>\n",
              "      <td>0.834108</td>\n",
              "      <td>0.190944</td>\n",
              "      <td>0.032070</td>\n",
              "      <td>-0.739695</td>\n",
              "      <td>0.471111</td>\n",
              "      <td>0.385107</td>\n",
              "      <td>0.194361</td>\n",
              "      <td>77.89</td>\n",
              "      <td>1</td>\n",
              "    </tr>\n",
              "    <tr>\n",
              "      <th>281144</th>\n",
              "      <td>169966.0</td>\n",
              "      <td>-3.113832</td>\n",
              "      <td>0.585864</td>\n",
              "      <td>-5.399730</td>\n",
              "      <td>1.817092</td>\n",
              "      <td>-0.840618</td>\n",
              "      <td>-2.943548</td>\n",
              "      <td>-2.208002</td>\n",
              "      <td>1.058733</td>\n",
              "      <td>-1.632333</td>\n",
              "      <td>-5.245984</td>\n",
              "      <td>1.933520</td>\n",
              "      <td>-5.030465</td>\n",
              "      <td>-1.127455</td>\n",
              "      <td>-6.416628</td>\n",
              "      <td>0.141237</td>\n",
              "      <td>-2.549498</td>\n",
              "      <td>-4.614717</td>\n",
              "      <td>-1.478138</td>\n",
              "      <td>-0.035480</td>\n",
              "      <td>0.306271</td>\n",
              "      <td>0.583276</td>\n",
              "      <td>-0.269209</td>\n",
              "      <td>-0.456108</td>\n",
              "      <td>-0.183659</td>\n",
              "      <td>-0.328168</td>\n",
              "      <td>0.606116</td>\n",
              "      <td>0.884876</td>\n",
              "      <td>-0.253700</td>\n",
              "      <td>245.00</td>\n",
              "      <td>1</td>\n",
              "    </tr>\n",
              "    <tr>\n",
              "      <th>281674</th>\n",
              "      <td>170348.0</td>\n",
              "      <td>1.991976</td>\n",
              "      <td>0.158476</td>\n",
              "      <td>-2.583441</td>\n",
              "      <td>0.408670</td>\n",
              "      <td>1.151147</td>\n",
              "      <td>-0.096695</td>\n",
              "      <td>0.223050</td>\n",
              "      <td>-0.068384</td>\n",
              "      <td>0.577829</td>\n",
              "      <td>-0.888722</td>\n",
              "      <td>0.491140</td>\n",
              "      <td>0.728903</td>\n",
              "      <td>0.380428</td>\n",
              "      <td>-1.948883</td>\n",
              "      <td>-0.832498</td>\n",
              "      <td>0.519436</td>\n",
              "      <td>0.903562</td>\n",
              "      <td>1.197315</td>\n",
              "      <td>0.593509</td>\n",
              "      <td>-0.017652</td>\n",
              "      <td>-0.164350</td>\n",
              "      <td>-0.295135</td>\n",
              "      <td>-0.072173</td>\n",
              "      <td>-0.450261</td>\n",
              "      <td>0.313267</td>\n",
              "      <td>-0.289617</td>\n",
              "      <td>0.002988</td>\n",
              "      <td>-0.015309</td>\n",
              "      <td>42.53</td>\n",
              "      <td>1</td>\n",
              "    </tr>\n",
              "  </tbody>\n",
              "</table>\n",
              "<p>1092 rows × 31 columns</p>\n",
              "</div>"
            ],
            "text/plain": [
              "            Time        V1        V2  ...       V28  Amount  Class\n",
              "37906    39163.0 -0.363913  0.853399  ... -0.257103   18.49      0\n",
              "65786    51746.0 -3.519614  2.536332  ... -0.069912    3.84      0\n",
              "160537  113441.0  2.049175 -0.073552  ... -0.060345    3.96      0\n",
              "78817    57720.0  1.156016 -0.194637  ...  0.015398   12.04      0\n",
              "265574  161946.0 -0.483227  1.349745  ...  0.079387    7.00      0\n",
              "...          ...       ...       ...  ...       ...     ...    ...\n",
              "279863  169142.0 -1.927883  1.125653  ...  0.147968  390.00      1\n",
              "280143  169347.0  1.378559  1.289381  ...  0.186637    0.76      1\n",
              "280149  169351.0 -0.676143  1.126366  ...  0.194361   77.89      1\n",
              "281144  169966.0 -3.113832  0.585864  ... -0.253700  245.00      1\n",
              "281674  170348.0  1.991976  0.158476  ... -0.015309   42.53      1\n",
              "\n",
              "[1092 rows x 31 columns]"
            ]
          },
          "metadata": {},
          "execution_count": 100
        }
      ]
    },
    {
      "cell_type": "code",
      "metadata": {
        "id": "40b2mQ4Def0N"
      },
      "source": [
        "x=new_df.drop(columns='Class',axis=1)\n",
        "y=new_df['Class']"
      ],
      "execution_count": 101,
      "outputs": []
    },
    {
      "cell_type": "code",
      "metadata": {
        "id": "2kAG8_YucZMb"
      },
      "source": [
        "from sklearn.model_selection import train_test_split"
      ],
      "execution_count": 102,
      "outputs": []
    },
    {
      "cell_type": "code",
      "metadata": {
        "id": "zBT-_wiHeUlt"
      },
      "source": [
        "xtrain,xtest,ytrain,ytest= train_test_split(x,y,test_size=0.2,random_state=1)"
      ],
      "execution_count": 103,
      "outputs": []
    },
    {
      "cell_type": "code",
      "metadata": {
        "colab": {
          "base_uri": "https://localhost:8080/",
          "height": 444
        },
        "id": "3GXaYjDUg9VP",
        "outputId": "7e224203-7e55-4a3a-ad0e-f87edc7626e8"
      },
      "source": [
        "xtrain"
      ],
      "execution_count": 104,
      "outputs": [
        {
          "output_type": "execute_result",
          "data": {
            "text/html": [
              "<div>\n",
              "<style scoped>\n",
              "    .dataframe tbody tr th:only-of-type {\n",
              "        vertical-align: middle;\n",
              "    }\n",
              "\n",
              "    .dataframe tbody tr th {\n",
              "        vertical-align: top;\n",
              "    }\n",
              "\n",
              "    .dataframe thead th {\n",
              "        text-align: right;\n",
              "    }\n",
              "</style>\n",
              "<table border=\"1\" class=\"dataframe\">\n",
              "  <thead>\n",
              "    <tr style=\"text-align: right;\">\n",
              "      <th></th>\n",
              "      <th>Time</th>\n",
              "      <th>V1</th>\n",
              "      <th>V2</th>\n",
              "      <th>V3</th>\n",
              "      <th>V4</th>\n",
              "      <th>V5</th>\n",
              "      <th>V6</th>\n",
              "      <th>V7</th>\n",
              "      <th>V8</th>\n",
              "      <th>V9</th>\n",
              "      <th>V10</th>\n",
              "      <th>V11</th>\n",
              "      <th>V12</th>\n",
              "      <th>V13</th>\n",
              "      <th>V14</th>\n",
              "      <th>V15</th>\n",
              "      <th>V16</th>\n",
              "      <th>V17</th>\n",
              "      <th>V18</th>\n",
              "      <th>V19</th>\n",
              "      <th>V20</th>\n",
              "      <th>V21</th>\n",
              "      <th>V22</th>\n",
              "      <th>V23</th>\n",
              "      <th>V24</th>\n",
              "      <th>V25</th>\n",
              "      <th>V26</th>\n",
              "      <th>V27</th>\n",
              "      <th>V28</th>\n",
              "      <th>Amount</th>\n",
              "    </tr>\n",
              "  </thead>\n",
              "  <tbody>\n",
              "    <tr>\n",
              "      <th>131272</th>\n",
              "      <td>79540.0</td>\n",
              "      <td>-0.114361</td>\n",
              "      <td>1.036129</td>\n",
              "      <td>1.984405</td>\n",
              "      <td>3.128243</td>\n",
              "      <td>-0.740344</td>\n",
              "      <td>1.548619</td>\n",
              "      <td>-1.701284</td>\n",
              "      <td>-2.203842</td>\n",
              "      <td>-1.242265</td>\n",
              "      <td>0.269562</td>\n",
              "      <td>1.293418</td>\n",
              "      <td>0.933216</td>\n",
              "      <td>-0.135326</td>\n",
              "      <td>0.521484</td>\n",
              "      <td>0.386884</td>\n",
              "      <td>0.059869</td>\n",
              "      <td>0.306339</td>\n",
              "      <td>0.265052</td>\n",
              "      <td>0.223718</td>\n",
              "      <td>0.732852</td>\n",
              "      <td>-1.032935</td>\n",
              "      <td>1.196428</td>\n",
              "      <td>-0.112857</td>\n",
              "      <td>0.254719</td>\n",
              "      <td>0.696668</td>\n",
              "      <td>0.482370</td>\n",
              "      <td>0.129969</td>\n",
              "      <td>0.223924</td>\n",
              "      <td>0.20</td>\n",
              "    </tr>\n",
              "    <tr>\n",
              "      <th>100623</th>\n",
              "      <td>67571.0</td>\n",
              "      <td>-0.758469</td>\n",
              "      <td>-0.045410</td>\n",
              "      <td>-0.168438</td>\n",
              "      <td>-1.313275</td>\n",
              "      <td>-1.901763</td>\n",
              "      <td>0.739433</td>\n",
              "      <td>3.071892</td>\n",
              "      <td>-0.483422</td>\n",
              "      <td>0.618203</td>\n",
              "      <td>-1.769060</td>\n",
              "      <td>-0.651414</td>\n",
              "      <td>-0.005423</td>\n",
              "      <td>-0.517194</td>\n",
              "      <td>0.217470</td>\n",
              "      <td>0.883559</td>\n",
              "      <td>-1.173978</td>\n",
              "      <td>0.243347</td>\n",
              "      <td>-0.342301</td>\n",
              "      <td>0.687056</td>\n",
              "      <td>-0.032500</td>\n",
              "      <td>0.042619</td>\n",
              "      <td>0.397224</td>\n",
              "      <td>0.072229</td>\n",
              "      <td>-0.242276</td>\n",
              "      <td>0.560916</td>\n",
              "      <td>-0.540955</td>\n",
              "      <td>0.150606</td>\n",
              "      <td>-0.117140</td>\n",
              "      <td>549.06</td>\n",
              "    </tr>\n",
              "    <tr>\n",
              "      <th>267514</th>\n",
              "      <td>162804.0</td>\n",
              "      <td>2.046989</td>\n",
              "      <td>-0.033458</td>\n",
              "      <td>-1.418280</td>\n",
              "      <td>0.163473</td>\n",
              "      <td>0.249955</td>\n",
              "      <td>-0.762652</td>\n",
              "      <td>0.161805</td>\n",
              "      <td>-0.236599</td>\n",
              "      <td>0.294121</td>\n",
              "      <td>0.164159</td>\n",
              "      <td>0.832608</td>\n",
              "      <td>1.122917</td>\n",
              "      <td>0.457309</td>\n",
              "      <td>0.585911</td>\n",
              "      <td>0.064963</td>\n",
              "      <td>-0.002961</td>\n",
              "      <td>-0.840884</td>\n",
              "      <td>0.396574</td>\n",
              "      <td>0.107068</td>\n",
              "      <td>-0.204674</td>\n",
              "      <td>0.285508</td>\n",
              "      <td>0.986455</td>\n",
              "      <td>-0.050903</td>\n",
              "      <td>-0.346623</td>\n",
              "      <td>0.281478</td>\n",
              "      <td>-0.103948</td>\n",
              "      <td>-0.017772</td>\n",
              "      <td>-0.071919</td>\n",
              "      <td>0.89</td>\n",
              "    </tr>\n",
              "    <tr>\n",
              "      <th>137705</th>\n",
              "      <td>82289.0</td>\n",
              "      <td>-1.464897</td>\n",
              "      <td>1.975528</td>\n",
              "      <td>-1.077145</td>\n",
              "      <td>2.819191</td>\n",
              "      <td>0.069850</td>\n",
              "      <td>-0.789044</td>\n",
              "      <td>-1.196101</td>\n",
              "      <td>0.673654</td>\n",
              "      <td>-1.363724</td>\n",
              "      <td>-2.932895</td>\n",
              "      <td>0.301369</td>\n",
              "      <td>-3.246141</td>\n",
              "      <td>-0.465640</td>\n",
              "      <td>-5.429362</td>\n",
              "      <td>-1.304983</td>\n",
              "      <td>-0.953623</td>\n",
              "      <td>-2.727343</td>\n",
              "      <td>-0.636437</td>\n",
              "      <td>-0.927124</td>\n",
              "      <td>0.048969</td>\n",
              "      <td>0.174099</td>\n",
              "      <td>-0.272505</td>\n",
              "      <td>-0.031549</td>\n",
              "      <td>-0.406166</td>\n",
              "      <td>0.157769</td>\n",
              "      <td>-0.104393</td>\n",
              "      <td>0.073796</td>\n",
              "      <td>-0.041570</td>\n",
              "      <td>1.00</td>\n",
              "    </tr>\n",
              "    <tr>\n",
              "      <th>189069</th>\n",
              "      <td>128251.0</td>\n",
              "      <td>2.052095</td>\n",
              "      <td>-0.160741</td>\n",
              "      <td>-1.256855</td>\n",
              "      <td>0.195057</td>\n",
              "      <td>0.088479</td>\n",
              "      <td>-0.631883</td>\n",
              "      <td>0.028175</td>\n",
              "      <td>-0.120916</td>\n",
              "      <td>0.411848</td>\n",
              "      <td>0.261663</td>\n",
              "      <td>0.422081</td>\n",
              "      <td>0.628071</td>\n",
              "      <td>-0.580471</td>\n",
              "      <td>0.571509</td>\n",
              "      <td>-0.555039</td>\n",
              "      <td>0.260249</td>\n",
              "      <td>-0.675111</td>\n",
              "      <td>-0.139992</td>\n",
              "      <td>0.619349</td>\n",
              "      <td>-0.238740</td>\n",
              "      <td>-0.276149</td>\n",
              "      <td>-0.727067</td>\n",
              "      <td>0.276485</td>\n",
              "      <td>-0.510273</td>\n",
              "      <td>-0.286797</td>\n",
              "      <td>0.210130</td>\n",
              "      <td>-0.079415</td>\n",
              "      <td>-0.076292</td>\n",
              "      <td>1.98</td>\n",
              "    </tr>\n",
              "    <tr>\n",
              "      <th>...</th>\n",
              "      <td>...</td>\n",
              "      <td>...</td>\n",
              "      <td>...</td>\n",
              "      <td>...</td>\n",
              "      <td>...</td>\n",
              "      <td>...</td>\n",
              "      <td>...</td>\n",
              "      <td>...</td>\n",
              "      <td>...</td>\n",
              "      <td>...</td>\n",
              "      <td>...</td>\n",
              "      <td>...</td>\n",
              "      <td>...</td>\n",
              "      <td>...</td>\n",
              "      <td>...</td>\n",
              "      <td>...</td>\n",
              "      <td>...</td>\n",
              "      <td>...</td>\n",
              "      <td>...</td>\n",
              "      <td>...</td>\n",
              "      <td>...</td>\n",
              "      <td>...</td>\n",
              "      <td>...</td>\n",
              "      <td>...</td>\n",
              "      <td>...</td>\n",
              "      <td>...</td>\n",
              "      <td>...</td>\n",
              "      <td>...</td>\n",
              "      <td>...</td>\n",
              "      <td>...</td>\n",
              "    </tr>\n",
              "    <tr>\n",
              "      <th>120505</th>\n",
              "      <td>75851.0</td>\n",
              "      <td>-4.793667</td>\n",
              "      <td>3.418911</td>\n",
              "      <td>-5.074445</td>\n",
              "      <td>4.035987</td>\n",
              "      <td>-3.527875</td>\n",
              "      <td>-1.923242</td>\n",
              "      <td>-5.065981</td>\n",
              "      <td>1.996885</td>\n",
              "      <td>-3.097379</td>\n",
              "      <td>-6.447202</td>\n",
              "      <td>3.775578</td>\n",
              "      <td>-7.498783</td>\n",
              "      <td>0.231307</td>\n",
              "      <td>-8.658268</td>\n",
              "      <td>1.343308</td>\n",
              "      <td>-6.173331</td>\n",
              "      <td>-10.708018</td>\n",
              "      <td>-3.504894</td>\n",
              "      <td>1.884044</td>\n",
              "      <td>0.342122</td>\n",
              "      <td>1.168618</td>\n",
              "      <td>0.289531</td>\n",
              "      <td>-0.371888</td>\n",
              "      <td>0.144761</td>\n",
              "      <td>0.084735</td>\n",
              "      <td>-0.197431</td>\n",
              "      <td>0.328672</td>\n",
              "      <td>0.835395</td>\n",
              "      <td>99.85</td>\n",
              "    </tr>\n",
              "    <tr>\n",
              "      <th>42609</th>\n",
              "      <td>41170.0</td>\n",
              "      <td>-6.498086</td>\n",
              "      <td>4.750515</td>\n",
              "      <td>-8.966558</td>\n",
              "      <td>7.098854</td>\n",
              "      <td>-6.958376</td>\n",
              "      <td>-2.822126</td>\n",
              "      <td>-10.333406</td>\n",
              "      <td>4.031907</td>\n",
              "      <td>-6.648778</td>\n",
              "      <td>-11.634414</td>\n",
              "      <td>6.877571</td>\n",
              "      <td>-13.697686</td>\n",
              "      <td>0.463040</td>\n",
              "      <td>-13.044182</td>\n",
              "      <td>-0.309229</td>\n",
              "      <td>-12.317580</td>\n",
              "      <td>-24.019099</td>\n",
              "      <td>-9.335193</td>\n",
              "      <td>1.951890</td>\n",
              "      <td>0.568338</td>\n",
              "      <td>2.158143</td>\n",
              "      <td>0.111510</td>\n",
              "      <td>0.216414</td>\n",
              "      <td>0.584661</td>\n",
              "      <td>0.760360</td>\n",
              "      <td>0.081972</td>\n",
              "      <td>1.415068</td>\n",
              "      <td>0.035124</td>\n",
              "      <td>83.38</td>\n",
              "    </tr>\n",
              "    <tr>\n",
              "      <th>150669</th>\n",
              "      <td>93860.0</td>\n",
              "      <td>-10.632375</td>\n",
              "      <td>7.251936</td>\n",
              "      <td>-17.681072</td>\n",
              "      <td>8.204144</td>\n",
              "      <td>-10.166591</td>\n",
              "      <td>-4.510344</td>\n",
              "      <td>-12.981606</td>\n",
              "      <td>6.783589</td>\n",
              "      <td>-4.659330</td>\n",
              "      <td>-14.924655</td>\n",
              "      <td>8.389142</td>\n",
              "      <td>-16.465504</td>\n",
              "      <td>0.338517</td>\n",
              "      <td>-14.224404</td>\n",
              "      <td>0.556584</td>\n",
              "      <td>-11.683998</td>\n",
              "      <td>-15.841616</td>\n",
              "      <td>-5.753200</td>\n",
              "      <td>3.813041</td>\n",
              "      <td>-0.810146</td>\n",
              "      <td>2.715357</td>\n",
              "      <td>0.695603</td>\n",
              "      <td>-1.138122</td>\n",
              "      <td>0.459442</td>\n",
              "      <td>0.386337</td>\n",
              "      <td>0.522438</td>\n",
              "      <td>-1.416604</td>\n",
              "      <td>-0.488307</td>\n",
              "      <td>188.52</td>\n",
              "    </tr>\n",
              "    <tr>\n",
              "      <th>104154</th>\n",
              "      <td>68932.0</td>\n",
              "      <td>-0.772145</td>\n",
              "      <td>-0.155130</td>\n",
              "      <td>1.900660</td>\n",
              "      <td>-1.872550</td>\n",
              "      <td>-0.132030</td>\n",
              "      <td>-0.952524</td>\n",
              "      <td>-0.072818</td>\n",
              "      <td>0.088997</td>\n",
              "      <td>-1.533406</td>\n",
              "      <td>0.061952</td>\n",
              "      <td>1.182849</td>\n",
              "      <td>-0.354501</td>\n",
              "      <td>-0.460439</td>\n",
              "      <td>-0.005779</td>\n",
              "      <td>-0.535415</td>\n",
              "      <td>1.644789</td>\n",
              "      <td>-0.292199</td>\n",
              "      <td>-0.939370</td>\n",
              "      <td>0.250515</td>\n",
              "      <td>0.126629</td>\n",
              "      <td>0.061497</td>\n",
              "      <td>-0.207538</td>\n",
              "      <td>-0.017083</td>\n",
              "      <td>0.288654</td>\n",
              "      <td>-0.086735</td>\n",
              "      <td>-0.658900</td>\n",
              "      <td>0.043746</td>\n",
              "      <td>0.095472</td>\n",
              "      <td>9.99</td>\n",
              "    </tr>\n",
              "    <tr>\n",
              "      <th>251881</th>\n",
              "      <td>155542.0</td>\n",
              "      <td>1.868226</td>\n",
              "      <td>1.363077</td>\n",
              "      <td>-1.994934</td>\n",
              "      <td>4.173516</td>\n",
              "      <td>1.239751</td>\n",
              "      <td>-0.746186</td>\n",
              "      <td>0.572731</td>\n",
              "      <td>-0.131235</td>\n",
              "      <td>-1.551839</td>\n",
              "      <td>0.228849</td>\n",
              "      <td>1.701895</td>\n",
              "      <td>0.144622</td>\n",
              "      <td>0.104088</td>\n",
              "      <td>-2.954167</td>\n",
              "      <td>-1.374122</td>\n",
              "      <td>1.889417</td>\n",
              "      <td>1.714511</td>\n",
              "      <td>1.104660</td>\n",
              "      <td>-1.597440</td>\n",
              "      <td>-0.172216</td>\n",
              "      <td>-0.301001</td>\n",
              "      <td>-0.818972</td>\n",
              "      <td>0.206812</td>\n",
              "      <td>-0.263683</td>\n",
              "      <td>-0.114958</td>\n",
              "      <td>-0.240672</td>\n",
              "      <td>-0.006629</td>\n",
              "      <td>0.017258</td>\n",
              "      <td>3.14</td>\n",
              "    </tr>\n",
              "  </tbody>\n",
              "</table>\n",
              "<p>873 rows × 30 columns</p>\n",
              "</div>"
            ],
            "text/plain": [
              "            Time         V1        V2  ...       V27       V28  Amount\n",
              "131272   79540.0  -0.114361  1.036129  ...  0.129969  0.223924    0.20\n",
              "100623   67571.0  -0.758469 -0.045410  ...  0.150606 -0.117140  549.06\n",
              "267514  162804.0   2.046989 -0.033458  ... -0.017772 -0.071919    0.89\n",
              "137705   82289.0  -1.464897  1.975528  ...  0.073796 -0.041570    1.00\n",
              "189069  128251.0   2.052095 -0.160741  ... -0.079415 -0.076292    1.98\n",
              "...          ...        ...       ...  ...       ...       ...     ...\n",
              "120505   75851.0  -4.793667  3.418911  ...  0.328672  0.835395   99.85\n",
              "42609    41170.0  -6.498086  4.750515  ...  1.415068  0.035124   83.38\n",
              "150669   93860.0 -10.632375  7.251936  ... -1.416604 -0.488307  188.52\n",
              "104154   68932.0  -0.772145 -0.155130  ...  0.043746  0.095472    9.99\n",
              "251881  155542.0   1.868226  1.363077  ... -0.006629  0.017258    3.14\n",
              "\n",
              "[873 rows x 30 columns]"
            ]
          },
          "metadata": {},
          "execution_count": 104
        }
      ]
    },
    {
      "cell_type": "markdown",
      "source": [
        "**LinearRegression**"
      ],
      "metadata": {
        "id": "HKcDRz30csHU"
      }
    },
    {
      "cell_type": "code",
      "metadata": {
        "id": "OvHLzQN4jb7d"
      },
      "source": [
        "from sklearn.linear_model import LinearRegression\n",
        "le=LinearRegression()"
      ],
      "execution_count": 105,
      "outputs": []
    },
    {
      "cell_type": "code",
      "metadata": {
        "colab": {
          "base_uri": "https://localhost:8080/"
        },
        "id": "Hkrhn2TMjmL6",
        "outputId": "a93ff522-9253-462c-a333-62c249366b63"
      },
      "source": [
        "le.fit(xtrain,ytrain)"
      ],
      "execution_count": 106,
      "outputs": [
        {
          "output_type": "execute_result",
          "data": {
            "text/plain": [
              "LinearRegression()"
            ]
          },
          "metadata": {},
          "execution_count": 106
        }
      ]
    },
    {
      "cell_type": "code",
      "metadata": {
        "colab": {
          "base_uri": "https://localhost:8080/"
        },
        "id": "j0oL6mkCjmOh",
        "outputId": "24c2c4b5-0118-4867-aa5a-341a18999e3d"
      },
      "source": [
        "le.score(xtest,ytest)"
      ],
      "execution_count": 107,
      "outputs": [
        {
          "output_type": "execute_result",
          "data": {
            "text/plain": [
              "0.6761806101416913"
            ]
          },
          "metadata": {},
          "execution_count": 107
        }
      ]
    },
    {
      "cell_type": "code",
      "metadata": {
        "id": "7zryxBjSjmQ1"
      },
      "source": [
        ""
      ],
      "execution_count": 107,
      "outputs": []
    },
    {
      "cell_type": "markdown",
      "source": [
        "**LogisticRegression**"
      ],
      "metadata": {
        "id": "mmeThZpwa80X"
      }
    },
    {
      "cell_type": "code",
      "metadata": {
        "id": "C-JfsG75hC5v"
      },
      "source": [
        "from sklearn.linear_model import LogisticRegression\n",
        "m=LogisticRegression()"
      ],
      "execution_count": 108,
      "outputs": []
    },
    {
      "cell_type": "code",
      "metadata": {
        "colab": {
          "base_uri": "https://localhost:8080/"
        },
        "id": "LKoz1FxAjGgM",
        "outputId": "2249875f-5450-4494-a51f-2fba128c834b"
      },
      "source": [
        "m.fit(xtrain,ytrain)"
      ],
      "execution_count": 109,
      "outputs": [
        {
          "output_type": "execute_result",
          "data": {
            "text/plain": [
              "LogisticRegression()"
            ]
          },
          "metadata": {},
          "execution_count": 109
        }
      ]
    },
    {
      "cell_type": "code",
      "metadata": {
        "colab": {
          "base_uri": "https://localhost:8080/"
        },
        "id": "5thsTkr7jLF8",
        "outputId": "621547e7-33ed-4040-c587-d95372d7df7b"
      },
      "source": [
        "m.score(xtest,ytest)"
      ],
      "execution_count": 110,
      "outputs": [
        {
          "output_type": "execute_result",
          "data": {
            "text/plain": [
              "0.9634703196347032"
            ]
          },
          "metadata": {},
          "execution_count": 110
        }
      ]
    },
    {
      "cell_type": "code",
      "source": [
        "pred=m.predict(xtest)\n",
        "pred"
      ],
      "metadata": {
        "id": "QzmTM3cLb7m2",
        "outputId": "7526d5bb-af44-408e-f8e8-b436678669f1",
        "colab": {
          "base_uri": "https://localhost:8080/"
        }
      },
      "execution_count": 111,
      "outputs": [
        {
          "output_type": "execute_result",
          "data": {
            "text/plain": [
              "array([1, 1, 0, 1, 0, 0, 0, 1, 0, 0, 0, 0, 0, 1, 1, 0, 0, 0, 1, 1, 0, 0,\n",
              "       1, 0, 0, 0, 0, 1, 1, 1, 0, 0, 1, 1, 0, 0, 1, 0, 0, 0, 0, 0, 0, 0,\n",
              "       1, 0, 1, 0, 0, 1, 0, 1, 0, 0, 1, 1, 0, 0, 0, 0, 0, 0, 1, 0, 1, 1,\n",
              "       0, 0, 1, 0, 0, 0, 1, 0, 1, 0, 0, 1, 1, 0, 0, 0, 0, 0, 0, 0, 0, 0,\n",
              "       1, 1, 0, 0, 0, 1, 1, 1, 1, 0, 1, 1, 0, 0, 0, 0, 1, 1, 0, 0, 1, 0,\n",
              "       0, 0, 0, 0, 0, 0, 1, 1, 0, 0, 1, 1, 0, 0, 1, 1, 1, 0, 0, 0, 0, 0,\n",
              "       0, 1, 1, 0, 0, 1, 1, 0, 1, 0, 1, 0, 0, 0, 0, 1, 1, 1, 0, 0, 1, 0,\n",
              "       0, 1, 0, 0, 1, 1, 0, 1, 1, 1, 1, 1, 1, 1, 0, 0, 0, 0, 0, 0, 1, 1,\n",
              "       1, 0, 0, 0, 0, 1, 0, 0, 0, 1, 0, 0, 0, 0, 0, 1, 0, 1, 0, 0, 0, 1,\n",
              "       1, 0, 1, 0, 0, 1, 0, 0, 0, 1, 0, 0, 1, 0, 1, 0, 1, 1, 0, 0, 1])"
            ]
          },
          "metadata": {},
          "execution_count": 111
        }
      ]
    },
    {
      "cell_type": "code",
      "source": [
        "from sklearn.metrics import classification_report"
      ],
      "metadata": {
        "id": "1FAPoqYBcjL9"
      },
      "execution_count": 112,
      "outputs": []
    },
    {
      "cell_type": "code",
      "source": [
        "dr=classification_report(ytest,pred)"
      ],
      "metadata": {
        "id": "zMERqc06bDe1"
      },
      "execution_count": 113,
      "outputs": []
    },
    {
      "cell_type": "code",
      "source": [
        "print(dr)"
      ],
      "metadata": {
        "id": "wI_5gMVvcBnL",
        "outputId": "90179cdb-a3c5-4a19-ea51-2bf1388cb236",
        "colab": {
          "base_uri": "https://localhost:8080/"
        }
      },
      "execution_count": 114,
      "outputs": [
        {
          "output_type": "stream",
          "name": "stdout",
          "text": [
            "              precision    recall  f1-score   support\n",
            "\n",
            "           0       0.96      0.98      0.97       133\n",
            "           1       0.96      0.94      0.95        86\n",
            "\n",
            "    accuracy                           0.96       219\n",
            "   macro avg       0.96      0.96      0.96       219\n",
            "weighted avg       0.96      0.96      0.96       219\n",
            "\n"
          ]
        }
      ]
    },
    {
      "cell_type": "markdown",
      "source": [
        "**KNeighborsClassifier**"
      ],
      "metadata": {
        "id": "-eTl0nbFbDyM"
      }
    },
    {
      "cell_type": "code",
      "metadata": {
        "id": "vv8SURy7jNed"
      },
      "source": [
        "from sklearn.neighbors import KNeighborsClassifier,KNeighborsRegressor\n",
        "from sklearn.neighbors import KNeighborsClassifier"
      ],
      "execution_count": 115,
      "outputs": []
    },
    {
      "cell_type": "code",
      "source": [
        "k=KNeighborsClassifier(n_neighbors=10)"
      ],
      "metadata": {
        "id": "xFbQAsgjbInC"
      },
      "execution_count": 116,
      "outputs": []
    },
    {
      "cell_type": "code",
      "source": [
        "k.fit(xtrain,ytrain)"
      ],
      "metadata": {
        "id": "h7_LtaX-bJJN",
        "outputId": "3c6f561b-ce52-417f-db6d-6c3139e54b42",
        "colab": {
          "base_uri": "https://localhost:8080/"
        }
      },
      "execution_count": 117,
      "outputs": [
        {
          "output_type": "execute_result",
          "data": {
            "text/plain": [
              "KNeighborsClassifier(n_neighbors=10)"
            ]
          },
          "metadata": {},
          "execution_count": 117
        }
      ]
    },
    {
      "cell_type": "code",
      "source": [
        "k.score(xtrain,ytrain)*100"
      ],
      "metadata": {
        "id": "iBMfVU5ZbKnq",
        "outputId": "70dfc170-ab8f-4e86-d3dc-b4515a329dcb",
        "colab": {
          "base_uri": "https://localhost:8080/"
        }
      },
      "execution_count": 118,
      "outputs": [
        {
          "output_type": "execute_result",
          "data": {
            "text/plain": [
              "72.2794959908362"
            ]
          },
          "metadata": {},
          "execution_count": 118
        }
      ]
    },
    {
      "cell_type": "code",
      "source": [
        "k.score(xtest,ytest)*100"
      ],
      "metadata": {
        "id": "dgd3iXCibMFA",
        "outputId": "dd6c2765-1cd0-4dc7-b8bd-fba49b3fa752",
        "colab": {
          "base_uri": "https://localhost:8080/"
        }
      },
      "execution_count": 119,
      "outputs": [
        {
          "output_type": "execute_result",
          "data": {
            "text/plain": [
              "67.12328767123287"
            ]
          },
          "metadata": {},
          "execution_count": 119
        }
      ]
    },
    {
      "cell_type": "code",
      "source": [
        "kr=KNeighborsRegressor()\n",
        "kr.fit(xtrain,ytrain)"
      ],
      "metadata": {
        "id": "c3X3GXEUbSp4",
        "outputId": "5bb4f7b5-6dc7-433d-82fe-7414cb1b333b",
        "colab": {
          "base_uri": "https://localhost:8080/"
        }
      },
      "execution_count": 120,
      "outputs": [
        {
          "output_type": "execute_result",
          "data": {
            "text/plain": [
              "KNeighborsRegressor()"
            ]
          },
          "metadata": {},
          "execution_count": 120
        }
      ]
    },
    {
      "cell_type": "code",
      "source": [
        "kr.score(xtest,ytest)*100"
      ],
      "metadata": {
        "id": "mwZv-ikEbVD_",
        "outputId": "6d31d5ad-8eb8-4252-c708-3cb289d0285f",
        "colab": {
          "base_uri": "https://localhost:8080/"
        }
      },
      "execution_count": 121,
      "outputs": [
        {
          "output_type": "execute_result",
          "data": {
            "text/plain": [
              "0.8200734394124831"
            ]
          },
          "metadata": {},
          "execution_count": 121
        }
      ]
    },
    {
      "cell_type": "code",
      "source": [
        ""
      ],
      "metadata": {
        "id": "qs49J7yQc75L"
      },
      "execution_count": 121,
      "outputs": []
    },
    {
      "cell_type": "markdown",
      "source": [
        "**DecisionTreeClassifier**"
      ],
      "metadata": {
        "id": "cU6T0QYnc8lF"
      }
    },
    {
      "cell_type": "code",
      "source": [
        "from sklearn.tree import DecisionTreeClassifier"
      ],
      "metadata": {
        "id": "ISt2Vr-gbdS-"
      },
      "execution_count": 122,
      "outputs": []
    },
    {
      "cell_type": "code",
      "source": [
        "d=DecisionTreeClassifier()"
      ],
      "metadata": {
        "id": "uLg_n-mXdCcm"
      },
      "execution_count": 123,
      "outputs": []
    },
    {
      "cell_type": "code",
      "source": [
        "d.fit(xtrain,ytrain)\n",
        "d.score(xtest,ytest)"
      ],
      "metadata": {
        "id": "OGmR5b-zdDLj",
        "outputId": "a10e2764-5e7b-466b-b7f0-96266bf0ccc1",
        "colab": {
          "base_uri": "https://localhost:8080/"
        }
      },
      "execution_count": 124,
      "outputs": [
        {
          "output_type": "execute_result",
          "data": {
            "text/plain": [
              "0.9315068493150684"
            ]
          },
          "metadata": {},
          "execution_count": 124
        }
      ]
    },
    {
      "cell_type": "code",
      "source": [
        "pred1=d.predict(xtest)\n",
        "pred1"
      ],
      "metadata": {
        "id": "cc3s3uGOdF8j",
        "outputId": "7132aa61-55b8-4b36-fb0f-af81f02ad731",
        "colab": {
          "base_uri": "https://localhost:8080/"
        }
      },
      "execution_count": 125,
      "outputs": [
        {
          "output_type": "execute_result",
          "data": {
            "text/plain": [
              "array([1, 1, 0, 1, 1, 0, 0, 1, 0, 0, 0, 0, 0, 1, 1, 0, 0, 0, 1, 0, 0, 0,\n",
              "       1, 0, 0, 0, 0, 1, 1, 1, 0, 0, 1, 1, 0, 0, 1, 0, 0, 1, 0, 0, 0, 0,\n",
              "       1, 0, 1, 0, 0, 1, 1, 1, 0, 0, 1, 1, 0, 1, 0, 0, 0, 0, 1, 0, 1, 1,\n",
              "       0, 0, 1, 0, 0, 0, 1, 0, 1, 0, 0, 1, 1, 0, 0, 1, 0, 1, 0, 0, 0, 0,\n",
              "       1, 1, 1, 0, 0, 1, 1, 1, 1, 0, 1, 1, 0, 0, 0, 0, 1, 1, 0, 0, 1, 0,\n",
              "       0, 0, 0, 0, 0, 1, 1, 1, 0, 0, 1, 1, 0, 0, 0, 1, 1, 0, 0, 0, 0, 0,\n",
              "       0, 0, 1, 0, 0, 1, 1, 0, 1, 0, 1, 0, 0, 0, 0, 1, 1, 1, 0, 0, 1, 0,\n",
              "       0, 1, 0, 1, 1, 1, 1, 1, 1, 1, 0, 0, 1, 1, 0, 0, 0, 0, 0, 1, 1, 1,\n",
              "       1, 0, 0, 0, 0, 1, 0, 0, 0, 1, 0, 1, 0, 0, 0, 0, 0, 1, 0, 0, 0, 1,\n",
              "       1, 0, 1, 0, 0, 1, 0, 0, 0, 1, 0, 0, 1, 1, 1, 0, 1, 1, 0, 0, 1])"
            ]
          },
          "metadata": {},
          "execution_count": 125
        }
      ]
    },
    {
      "cell_type": "code",
      "source": [
        "clr=classification_report(ytest,pred1)"
      ],
      "metadata": {
        "id": "GYnW3AB5dGpT"
      },
      "execution_count": 126,
      "outputs": []
    },
    {
      "cell_type": "code",
      "source": [
        "print(clr)"
      ],
      "metadata": {
        "id": "CPqB15PJdWkX",
        "outputId": "057c90c5-dd27-458c-89ca-4b41d49e1757",
        "colab": {
          "base_uri": "https://localhost:8080/"
        }
      },
      "execution_count": 127,
      "outputs": [
        {
          "output_type": "stream",
          "name": "stdout",
          "text": [
            "              precision    recall  f1-score   support\n",
            "\n",
            "           0       0.96      0.92      0.94       133\n",
            "           1       0.89      0.94      0.92        86\n",
            "\n",
            "    accuracy                           0.93       219\n",
            "   macro avg       0.93      0.93      0.93       219\n",
            "weighted avg       0.93      0.93      0.93       219\n",
            "\n"
          ]
        }
      ]
    },
    {
      "cell_type": "markdown",
      "source": [
        "**RandomForestClassifier**"
      ],
      "metadata": {
        "id": "c5DFZL_1dcEV"
      }
    },
    {
      "cell_type": "code",
      "source": [
        "from sklearn.ensemble import RandomForestClassifier\n"
      ],
      "metadata": {
        "id": "C4muIi0xdZKf"
      },
      "execution_count": 128,
      "outputs": []
    },
    {
      "cell_type": "code",
      "source": [
        "Ran=RandomForestClassifier()"
      ],
      "metadata": {
        "id": "B6pLdEH_dgD3"
      },
      "execution_count": 129,
      "outputs": []
    },
    {
      "cell_type": "code",
      "source": [
        "Ran.fit(xtrain,ytrain)\n",
        "Ran.score(xtest,ytest)"
      ],
      "metadata": {
        "id": "DmfUp8IEdhYO",
        "outputId": "2c39718a-141a-4ce2-f04b-99ff01679f50",
        "colab": {
          "base_uri": "https://localhost:8080/"
        }
      },
      "execution_count": 130,
      "outputs": [
        {
          "output_type": "execute_result",
          "data": {
            "text/plain": [
              "0.9680365296803652"
            ]
          },
          "metadata": {},
          "execution_count": 130
        }
      ]
    },
    {
      "cell_type": "code",
      "source": [
        "pred3=Ran.predict(xtest)\n",
        "pred3"
      ],
      "metadata": {
        "id": "ErxuptM3dlRC",
        "outputId": "3ee62156-6c12-4dca-9e07-581e19767d0c",
        "colab": {
          "base_uri": "https://localhost:8080/"
        }
      },
      "execution_count": 131,
      "outputs": [
        {
          "output_type": "execute_result",
          "data": {
            "text/plain": [
              "array([1, 1, 0, 1, 0, 0, 0, 1, 0, 0, 0, 0, 0, 1, 1, 0, 0, 0, 1, 0, 0, 0,\n",
              "       1, 0, 0, 0, 0, 1, 1, 1, 0, 0, 1, 0, 0, 0, 1, 0, 0, 0, 0, 0, 0, 0,\n",
              "       1, 0, 1, 0, 0, 1, 0, 1, 0, 0, 1, 1, 0, 0, 0, 0, 0, 0, 1, 0, 1, 1,\n",
              "       0, 0, 1, 0, 0, 0, 1, 0, 1, 0, 0, 1, 1, 0, 0, 1, 0, 0, 0, 0, 0, 0,\n",
              "       1, 1, 0, 0, 0, 1, 1, 1, 1, 0, 1, 1, 0, 0, 0, 0, 1, 1, 0, 0, 1, 0,\n",
              "       0, 0, 0, 0, 0, 1, 1, 1, 0, 0, 1, 1, 0, 0, 0, 1, 1, 0, 0, 0, 0, 0,\n",
              "       0, 0, 1, 0, 0, 1, 1, 0, 1, 0, 1, 0, 0, 0, 0, 1, 1, 1, 0, 0, 1, 0,\n",
              "       0, 1, 0, 0, 1, 1, 0, 1, 1, 1, 1, 0, 1, 1, 0, 0, 0, 0, 0, 1, 1, 1,\n",
              "       1, 0, 0, 0, 0, 1, 0, 0, 0, 1, 0, 0, 0, 0, 0, 0, 0, 1, 0, 0, 0, 1,\n",
              "       1, 0, 1, 0, 0, 1, 0, 0, 0, 1, 0, 0, 1, 0, 1, 0, 1, 1, 0, 0, 1])"
            ]
          },
          "metadata": {},
          "execution_count": 131
        }
      ]
    },
    {
      "cell_type": "code",
      "source": [
        "clr1=classification_report(ytest,pred3)"
      ],
      "metadata": {
        "id": "2ApVxhGUdmtZ"
      },
      "execution_count": 132,
      "outputs": []
    },
    {
      "cell_type": "code",
      "source": [
        "print(clr1)"
      ],
      "metadata": {
        "id": "8HcAMsr1dues",
        "outputId": "0a2e3470-8f68-4384-b0a3-7fe2ae775209",
        "colab": {
          "base_uri": "https://localhost:8080/"
        }
      },
      "execution_count": 133,
      "outputs": [
        {
          "output_type": "stream",
          "name": "stdout",
          "text": [
            "              precision    recall  f1-score   support\n",
            "\n",
            "           0       0.96      0.99      0.97       133\n",
            "           1       0.99      0.93      0.96        86\n",
            "\n",
            "    accuracy                           0.97       219\n",
            "   macro avg       0.97      0.96      0.97       219\n",
            "weighted avg       0.97      0.97      0.97       219\n",
            "\n"
          ]
        }
      ]
    },
    {
      "cell_type": "markdown",
      "source": [
        "**Support Vector Machine(SVM)**"
      ],
      "metadata": {
        "id": "_Gxj_svmd4B3"
      }
    },
    {
      "cell_type": "code",
      "source": [
        "from sklearn.model_selection import train_test_split\n",
        "from sklearn.svm import SVC"
      ],
      "metadata": {
        "id": "Lxeo8h43d6ug"
      },
      "execution_count": 134,
      "outputs": []
    },
    {
      "cell_type": "code",
      "source": [
        "S=SVC()"
      ],
      "metadata": {
        "id": "XbdhbIGKd9GR"
      },
      "execution_count": 135,
      "outputs": []
    },
    {
      "cell_type": "code",
      "source": [
        "S.fit(xtrain,ytrain)"
      ],
      "metadata": {
        "id": "Co6o2j8-d9j9",
        "outputId": "333ce2a8-9bf4-4928-d0db-101e98634866",
        "colab": {
          "base_uri": "https://localhost:8080/"
        }
      },
      "execution_count": 136,
      "outputs": [
        {
          "output_type": "execute_result",
          "data": {
            "text/plain": [
              "SVC()"
            ]
          },
          "metadata": {},
          "execution_count": 136
        }
      ]
    },
    {
      "cell_type": "code",
      "source": [
        "S.score(xtrain,ytrain)"
      ],
      "metadata": {
        "id": "884K0SbjeG9O",
        "outputId": "cac0dc51-722b-47db-9f1f-6e80cb8aeea7",
        "colab": {
          "base_uri": "https://localhost:8080/"
        }
      },
      "execution_count": 137,
      "outputs": [
        {
          "output_type": "execute_result",
          "data": {
            "text/plain": [
              "0.565864833906071"
            ]
          },
          "metadata": {},
          "execution_count": 137
        }
      ]
    },
    {
      "cell_type": "code",
      "source": [
        "S.score(xtest,ytest)"
      ],
      "metadata": {
        "id": "FoiBuiZjd-0P",
        "outputId": "c0014ebf-696b-4bc3-f4a5-514c2e9ecc51",
        "colab": {
          "base_uri": "https://localhost:8080/"
        }
      },
      "execution_count": 138,
      "outputs": [
        {
          "output_type": "execute_result",
          "data": {
            "text/plain": [
              "0.6529680365296804"
            ]
          },
          "metadata": {},
          "execution_count": 138
        }
      ]
    },
    {
      "cell_type": "code",
      "source": [
        ""
      ],
      "metadata": {
        "id": "KPngLIwYeDSr"
      },
      "execution_count": 138,
      "outputs": []
    }
  ]
}