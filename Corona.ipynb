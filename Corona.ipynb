{
  "nbformat": 4,
  "nbformat_minor": 0,
  "metadata": {
    "colab": {
      "name": "Corona.ipynb",
      "provenance": [],
      "mount_file_id": "1wVF0MAP2j2b11-550jF6KB1jxVRUaiVq",
      "authorship_tag": "ABX9TyPQVD5eg7NblrNsbNde60Yb",
      "include_colab_link": true
    },
    "kernelspec": {
      "name": "python3",
      "display_name": "Python 3"
    }
  },
  "cells": [
    {
      "cell_type": "markdown",
      "metadata": {
        "id": "view-in-github",
        "colab_type": "text"
      },
      "source": [
        "<a href=\"https://colab.research.google.com/github/MominulJM/Machine-Learning/blob/main/Corona.ipynb\" target=\"_parent\"><img src=\"https://colab.research.google.com/assets/colab-badge.svg\" alt=\"Open In Colab\"/></a>"
      ]
    },
    {
      "cell_type": "code",
      "metadata": {
        "id": "0ZA9DZNBod_-",
        "colab": {
          "base_uri": "https://localhost:8080/"
        },
        "outputId": "834e5978-3d52-4aa0-abad-f8bafb167884"
      },
      "source": [
        "from google.colab import drive\n",
        "drive.mount('/gdrive')\n",
        "%cd /gdrive"
      ],
      "execution_count": null,
      "outputs": [
        {
          "output_type": "stream",
          "text": [
            "Go to this URL in a browser: https://accounts.google.com/o/oauth2/auth?client_id=947318989803-6bn6qk8qdgf4n4g3pfee6491hc0brc4i.apps.googleusercontent.com&redirect_uri=urn%3aietf%3awg%3aoauth%3a2.0%3aoob&scope=email%20https%3a%2f%2fwww.googleapis.com%2fauth%2fdocs.test%20https%3a%2f%2fwww.googleapis.com%2fauth%2fdrive%20https%3a%2f%2fwww.googleapis.com%2fauth%2fdrive.photos.readonly%20https%3a%2f%2fwww.googleapis.com%2fauth%2fpeopleapi.readonly%20https%3a%2f%2fwww.googleapis.com%2fauth%2fdrive.activity.readonly%20https%3a%2f%2fwww.googleapis.com%2fauth%2fexperimentsandconfigs%20https%3a%2f%2fwww.googleapis.com%2fauth%2fphotos.native&response_type=code\n",
            "\n",
            "Enter your authorization code:\n",
            "4/1AX4XfWid1NFc2rg-xdYv_LSSt9w2RZs7RkXUGBwBn59GdZ1mFbfyPIL8M50\n",
            "Mounted at /gdrive\n",
            "/gdrive\n"
          ],
          "name": "stdout"
        }
      ]
    },
    {
      "cell_type": "code",
      "metadata": {
        "id": "OsJFbJxTofIH"
      },
      "source": [
        "import pandas as pd\n",
        "df=pd.read_csv(\"/content/drive/MyDrive/Covid_survey.csv\")"
      ],
      "execution_count": null,
      "outputs": []
    },
    {
      "cell_type": "code",
      "metadata": {
        "colab": {
          "base_uri": "https://localhost:8080/",
          "height": 765
        },
        "id": "-SzWXvCLpHGR",
        "outputId": "ce47753f-694a-4efb-cc26-2d0e72473b36"
      },
      "source": [
        "df"
      ],
      "execution_count": null,
      "outputs": [
        {
          "output_type": "execute_result",
          "data": {
            "text/html": [
              "<div>\n",
              "<style scoped>\n",
              "    .dataframe tbody tr th:only-of-type {\n",
              "        vertical-align: middle;\n",
              "    }\n",
              "\n",
              "    .dataframe tbody tr th {\n",
              "        vertical-align: top;\n",
              "    }\n",
              "\n",
              "    .dataframe thead th {\n",
              "        text-align: right;\n",
              "    }\n",
              "</style>\n",
              "<table border=\"1\" class=\"dataframe\">\n",
              "  <thead>\n",
              "    <tr style=\"text-align: right;\">\n",
              "      <th></th>\n",
              "      <th>profession</th>\n",
              "      <th>blood_group</th>\n",
              "      <th>district</th>\n",
              "      <th>member</th>\n",
              "      <th>father's_profession</th>\n",
              "      <th>There have any corona patients in your family?</th>\n",
              "      <th>bloodGr</th>\n",
              "      <th>affected</th>\n",
              "      <th>How is your family / your financial condition now?</th>\n",
              "      <th>How is going on your study/job in this corona crisis?</th>\n",
              "      <th>How is the relationship with your family in this corona crisis?</th>\n",
              "      <th>In which part you spend your time most in the corona pandemic?</th>\n",
              "      <th>problemmostface</th>\n",
              "      <th>How is your mental condition in this pandemic?</th>\n",
              "    </tr>\n",
              "  </thead>\n",
              "  <tbody>\n",
              "    <tr>\n",
              "      <th>0</th>\n",
              "      <td>Student</td>\n",
              "      <td>A+</td>\n",
              "      <td>Cumilla</td>\n",
              "      <td>6</td>\n",
              "      <td>Business</td>\n",
              "      <td>No</td>\n",
              "      <td>No</td>\n",
              "      <td>No</td>\n",
              "      <td>Low</td>\n",
              "      <td>Not good</td>\n",
              "      <td>Conflicting</td>\n",
              "      <td>Sleep all day long</td>\n",
              "      <td>Money problem</td>\n",
              "      <td>Depressed</td>\n",
              "    </tr>\n",
              "    <tr>\n",
              "      <th>1</th>\n",
              "      <td>Student</td>\n",
              "      <td>O+</td>\n",
              "      <td>Dhaka</td>\n",
              "      <td>5</td>\n",
              "      <td>Unofficial Job</td>\n",
              "      <td>No</td>\n",
              "      <td>No</td>\n",
              "      <td>No</td>\n",
              "      <td>Low</td>\n",
              "      <td>Not good</td>\n",
              "      <td>Well</td>\n",
              "      <td>Family</td>\n",
              "      <td>Education and financial crisis</td>\n",
              "      <td>Depressed</td>\n",
              "    </tr>\n",
              "    <tr>\n",
              "      <th>2</th>\n",
              "      <td>Student</td>\n",
              "      <td>A+</td>\n",
              "      <td>Narshingdi</td>\n",
              "      <td>4</td>\n",
              "      <td>Business</td>\n",
              "      <td>No</td>\n",
              "      <td>No</td>\n",
              "      <td>No</td>\n",
              "      <td>Moderate</td>\n",
              "      <td>Not good</td>\n",
              "      <td>Friendly</td>\n",
              "      <td>by doing productive something</td>\n",
              "      <td>Education and financial crisis</td>\n",
              "      <td>Depressed</td>\n",
              "    </tr>\n",
              "    <tr>\n",
              "      <th>3</th>\n",
              "      <td>Student</td>\n",
              "      <td>B+</td>\n",
              "      <td>Kurigram</td>\n",
              "      <td>4</td>\n",
              "      <td>Official Job</td>\n",
              "      <td>No</td>\n",
              "      <td>No</td>\n",
              "      <td>No</td>\n",
              "      <td>Good</td>\n",
              "      <td>Good</td>\n",
              "      <td>Well</td>\n",
              "      <td>by doing productive something</td>\n",
              "      <td>Journey, Getting desired product in time,inter...</td>\n",
              "      <td>Well</td>\n",
              "    </tr>\n",
              "    <tr>\n",
              "      <th>4</th>\n",
              "      <td>Student</td>\n",
              "      <td>O+</td>\n",
              "      <td>Natore</td>\n",
              "      <td>4</td>\n",
              "      <td>Official Job</td>\n",
              "      <td>No</td>\n",
              "      <td>No</td>\n",
              "      <td>No</td>\n",
              "      <td>Moderate</td>\n",
              "      <td>Not good</td>\n",
              "      <td>Friendly</td>\n",
              "      <td>Family, Study</td>\n",
              "      <td>study problem</td>\n",
              "      <td>Tensed</td>\n",
              "    </tr>\n",
              "    <tr>\n",
              "      <th>...</th>\n",
              "      <td>...</td>\n",
              "      <td>...</td>\n",
              "      <td>...</td>\n",
              "      <td>...</td>\n",
              "      <td>...</td>\n",
              "      <td>...</td>\n",
              "      <td>...</td>\n",
              "      <td>...</td>\n",
              "      <td>...</td>\n",
              "      <td>...</td>\n",
              "      <td>...</td>\n",
              "      <td>...</td>\n",
              "      <td>...</td>\n",
              "      <td>...</td>\n",
              "    </tr>\n",
              "    <tr>\n",
              "      <th>133</th>\n",
              "      <td>Student</td>\n",
              "      <td>B+</td>\n",
              "      <td>Faridpur</td>\n",
              "      <td>6</td>\n",
              "      <td>Retired of Police</td>\n",
              "      <td>No</td>\n",
              "      <td>No</td>\n",
              "      <td>No</td>\n",
              "      <td>Moderate</td>\n",
              "      <td>Not good</td>\n",
              "      <td>Friendly</td>\n",
              "      <td>Family</td>\n",
              "      <td>Education &amp; Social cooperating problem</td>\n",
              "      <td>Anxity</td>\n",
              "    </tr>\n",
              "    <tr>\n",
              "      <th>134</th>\n",
              "      <td>Student</td>\n",
              "      <td>AB+</td>\n",
              "      <td>Shoriyatpur</td>\n",
              "      <td>9</td>\n",
              "      <td>Official Job</td>\n",
              "      <td>No</td>\n",
              "      <td>No</td>\n",
              "      <td>No</td>\n",
              "      <td>Moderate</td>\n",
              "      <td>Not good</td>\n",
              "      <td>Friendly</td>\n",
              "      <td>Family</td>\n",
              "      <td>Everything</td>\n",
              "      <td>Depressed</td>\n",
              "    </tr>\n",
              "    <tr>\n",
              "      <th>135</th>\n",
              "      <td>Student</td>\n",
              "      <td>A+</td>\n",
              "      <td>dhaka</td>\n",
              "      <td>5</td>\n",
              "      <td>Business</td>\n",
              "      <td>No</td>\n",
              "      <td>No</td>\n",
              "      <td>No</td>\n",
              "      <td>Moderate</td>\n",
              "      <td>Not good</td>\n",
              "      <td>Very well</td>\n",
              "      <td>Family</td>\n",
              "      <td>Mental distress</td>\n",
              "      <td>Well</td>\n",
              "    </tr>\n",
              "    <tr>\n",
              "      <th>136</th>\n",
              "      <td>Student</td>\n",
              "      <td>O-</td>\n",
              "      <td>Dhaka</td>\n",
              "      <td>4</td>\n",
              "      <td>Official Job</td>\n",
              "      <td>No</td>\n",
              "      <td>No</td>\n",
              "      <td>No</td>\n",
              "      <td>Good</td>\n",
              "      <td>Not good</td>\n",
              "      <td>Friendly</td>\n",
              "      <td>Family</td>\n",
              "      <td>Study, mental health</td>\n",
              "      <td>Tensed</td>\n",
              "    </tr>\n",
              "    <tr>\n",
              "      <th>137</th>\n",
              "      <td>Official Job</td>\n",
              "      <td>O+</td>\n",
              "      <td>Narayanganj</td>\n",
              "      <td>7</td>\n",
              "      <td>Business</td>\n",
              "      <td>No</td>\n",
              "      <td>No</td>\n",
              "      <td>No</td>\n",
              "      <td>Moderate</td>\n",
              "      <td>Not good</td>\n",
              "      <td>Very well</td>\n",
              "      <td>By doing nothing or leisurely</td>\n",
              "      <td>Wasting time</td>\n",
              "      <td>Tensed</td>\n",
              "    </tr>\n",
              "  </tbody>\n",
              "</table>\n",
              "<p>138 rows × 14 columns</p>\n",
              "</div>"
            ],
            "text/plain": [
              "       profession  ... How is your mental condition in this pandemic? \n",
              "0         Student  ...                                       Depressed\n",
              "1         Student  ...                                       Depressed\n",
              "2         Student  ...                                       Depressed\n",
              "3         Student  ...                                            Well\n",
              "4         Student  ...                                          Tensed\n",
              "..            ...  ...                                             ...\n",
              "133       Student  ...                                          Anxity\n",
              "134       Student  ...                                       Depressed\n",
              "135       Student  ...                                            Well\n",
              "136       Student  ...                                          Tensed\n",
              "137  Official Job  ...                                          Tensed\n",
              "\n",
              "[138 rows x 14 columns]"
            ]
          },
          "metadata": {
            "tags": []
          },
          "execution_count": 2
        }
      ]
    },
    {
      "cell_type": "code",
      "metadata": {
        "colab": {
          "base_uri": "https://localhost:8080/"
        },
        "id": "TeG9I9avpINf",
        "outputId": "2c4316eb-7b80-44f4-b958-ae4a5164c2d2"
      },
      "source": [
        "len(df)"
      ],
      "execution_count": null,
      "outputs": [
        {
          "output_type": "execute_result",
          "data": {
            "text/plain": [
              "138"
            ]
          },
          "metadata": {
            "tags": []
          },
          "execution_count": 3
        }
      ]
    },
    {
      "cell_type": "code",
      "metadata": {
        "colab": {
          "base_uri": "https://localhost:8080/"
        },
        "id": "vYf79blTpNob",
        "outputId": "ff954846-9fb5-456c-da98-dacf5941e51d"
      },
      "source": [
        "df.isnull().sum()"
      ],
      "execution_count": null,
      "outputs": [
        {
          "output_type": "execute_result",
          "data": {
            "text/plain": [
              "profession                                                         0\n",
              "blood_group                                                        0\n",
              "district                                                           0\n",
              "member                                                             0\n",
              "father's_profession                                                0\n",
              "There have any corona patients in your family?                     0\n",
              "bloodGr                                                            0\n",
              "affected                                                           0\n",
              "How is your family / your financial condition now?                 0\n",
              "How is going on your study/job in this corona crisis?              0\n",
              "How is the relationship with your family in this corona crisis?    0\n",
              "In which part you spend your time most in the corona pandemic?     0\n",
              "problemmostface                                                    0\n",
              "How is your mental condition in this pandemic?                     0\n",
              "dtype: int64"
            ]
          },
          "metadata": {
            "tags": []
          },
          "execution_count": 4
        }
      ]
    },
    {
      "cell_type": "code",
      "metadata": {
        "colab": {
          "base_uri": "https://localhost:8080/",
          "height": 557
        },
        "id": "6hJQILRluDcD",
        "outputId": "91f0cdc3-fa8a-4982-eb29-fe63b6290c42"
      },
      "source": [
        "df.isnull()"
      ],
      "execution_count": null,
      "outputs": [
        {
          "output_type": "execute_result",
          "data": {
            "text/html": [
              "<div>\n",
              "<style scoped>\n",
              "    .dataframe tbody tr th:only-of-type {\n",
              "        vertical-align: middle;\n",
              "    }\n",
              "\n",
              "    .dataframe tbody tr th {\n",
              "        vertical-align: top;\n",
              "    }\n",
              "\n",
              "    .dataframe thead th {\n",
              "        text-align: right;\n",
              "    }\n",
              "</style>\n",
              "<table border=\"1\" class=\"dataframe\">\n",
              "  <thead>\n",
              "    <tr style=\"text-align: right;\">\n",
              "      <th></th>\n",
              "      <th>profession</th>\n",
              "      <th>blood_group</th>\n",
              "      <th>district</th>\n",
              "      <th>member</th>\n",
              "      <th>father's_profession</th>\n",
              "      <th>There have any corona patients in your family?</th>\n",
              "      <th>bloodGr</th>\n",
              "      <th>affected</th>\n",
              "      <th>How is your family / your financial condition now?</th>\n",
              "      <th>How is going on your study/job in this corona crisis?</th>\n",
              "      <th>How is the relationship with your family in this corona crisis?</th>\n",
              "      <th>In which part you spend your time most in the corona pandemic?</th>\n",
              "      <th>problemmostface</th>\n",
              "      <th>How is your mental condition in this pandemic?</th>\n",
              "    </tr>\n",
              "  </thead>\n",
              "  <tbody>\n",
              "    <tr>\n",
              "      <th>0</th>\n",
              "      <td>False</td>\n",
              "      <td>False</td>\n",
              "      <td>False</td>\n",
              "      <td>False</td>\n",
              "      <td>False</td>\n",
              "      <td>False</td>\n",
              "      <td>False</td>\n",
              "      <td>False</td>\n",
              "      <td>False</td>\n",
              "      <td>False</td>\n",
              "      <td>False</td>\n",
              "      <td>False</td>\n",
              "      <td>False</td>\n",
              "      <td>False</td>\n",
              "    </tr>\n",
              "    <tr>\n",
              "      <th>1</th>\n",
              "      <td>False</td>\n",
              "      <td>False</td>\n",
              "      <td>False</td>\n",
              "      <td>False</td>\n",
              "      <td>False</td>\n",
              "      <td>False</td>\n",
              "      <td>False</td>\n",
              "      <td>False</td>\n",
              "      <td>False</td>\n",
              "      <td>False</td>\n",
              "      <td>False</td>\n",
              "      <td>False</td>\n",
              "      <td>False</td>\n",
              "      <td>False</td>\n",
              "    </tr>\n",
              "    <tr>\n",
              "      <th>2</th>\n",
              "      <td>False</td>\n",
              "      <td>False</td>\n",
              "      <td>False</td>\n",
              "      <td>False</td>\n",
              "      <td>False</td>\n",
              "      <td>False</td>\n",
              "      <td>False</td>\n",
              "      <td>False</td>\n",
              "      <td>False</td>\n",
              "      <td>False</td>\n",
              "      <td>False</td>\n",
              "      <td>False</td>\n",
              "      <td>False</td>\n",
              "      <td>False</td>\n",
              "    </tr>\n",
              "    <tr>\n",
              "      <th>3</th>\n",
              "      <td>False</td>\n",
              "      <td>False</td>\n",
              "      <td>False</td>\n",
              "      <td>False</td>\n",
              "      <td>False</td>\n",
              "      <td>False</td>\n",
              "      <td>False</td>\n",
              "      <td>False</td>\n",
              "      <td>False</td>\n",
              "      <td>False</td>\n",
              "      <td>False</td>\n",
              "      <td>False</td>\n",
              "      <td>False</td>\n",
              "      <td>False</td>\n",
              "    </tr>\n",
              "    <tr>\n",
              "      <th>4</th>\n",
              "      <td>False</td>\n",
              "      <td>False</td>\n",
              "      <td>False</td>\n",
              "      <td>False</td>\n",
              "      <td>False</td>\n",
              "      <td>False</td>\n",
              "      <td>False</td>\n",
              "      <td>False</td>\n",
              "      <td>False</td>\n",
              "      <td>False</td>\n",
              "      <td>False</td>\n",
              "      <td>False</td>\n",
              "      <td>False</td>\n",
              "      <td>False</td>\n",
              "    </tr>\n",
              "    <tr>\n",
              "      <th>...</th>\n",
              "      <td>...</td>\n",
              "      <td>...</td>\n",
              "      <td>...</td>\n",
              "      <td>...</td>\n",
              "      <td>...</td>\n",
              "      <td>...</td>\n",
              "      <td>...</td>\n",
              "      <td>...</td>\n",
              "      <td>...</td>\n",
              "      <td>...</td>\n",
              "      <td>...</td>\n",
              "      <td>...</td>\n",
              "      <td>...</td>\n",
              "      <td>...</td>\n",
              "    </tr>\n",
              "    <tr>\n",
              "      <th>133</th>\n",
              "      <td>False</td>\n",
              "      <td>False</td>\n",
              "      <td>False</td>\n",
              "      <td>False</td>\n",
              "      <td>False</td>\n",
              "      <td>False</td>\n",
              "      <td>False</td>\n",
              "      <td>False</td>\n",
              "      <td>False</td>\n",
              "      <td>False</td>\n",
              "      <td>False</td>\n",
              "      <td>False</td>\n",
              "      <td>False</td>\n",
              "      <td>False</td>\n",
              "    </tr>\n",
              "    <tr>\n",
              "      <th>134</th>\n",
              "      <td>False</td>\n",
              "      <td>False</td>\n",
              "      <td>False</td>\n",
              "      <td>False</td>\n",
              "      <td>False</td>\n",
              "      <td>False</td>\n",
              "      <td>False</td>\n",
              "      <td>False</td>\n",
              "      <td>False</td>\n",
              "      <td>False</td>\n",
              "      <td>False</td>\n",
              "      <td>False</td>\n",
              "      <td>False</td>\n",
              "      <td>False</td>\n",
              "    </tr>\n",
              "    <tr>\n",
              "      <th>135</th>\n",
              "      <td>False</td>\n",
              "      <td>False</td>\n",
              "      <td>False</td>\n",
              "      <td>False</td>\n",
              "      <td>False</td>\n",
              "      <td>False</td>\n",
              "      <td>False</td>\n",
              "      <td>False</td>\n",
              "      <td>False</td>\n",
              "      <td>False</td>\n",
              "      <td>False</td>\n",
              "      <td>False</td>\n",
              "      <td>False</td>\n",
              "      <td>False</td>\n",
              "    </tr>\n",
              "    <tr>\n",
              "      <th>136</th>\n",
              "      <td>False</td>\n",
              "      <td>False</td>\n",
              "      <td>False</td>\n",
              "      <td>False</td>\n",
              "      <td>False</td>\n",
              "      <td>False</td>\n",
              "      <td>False</td>\n",
              "      <td>False</td>\n",
              "      <td>False</td>\n",
              "      <td>False</td>\n",
              "      <td>False</td>\n",
              "      <td>False</td>\n",
              "      <td>False</td>\n",
              "      <td>False</td>\n",
              "    </tr>\n",
              "    <tr>\n",
              "      <th>137</th>\n",
              "      <td>False</td>\n",
              "      <td>False</td>\n",
              "      <td>False</td>\n",
              "      <td>False</td>\n",
              "      <td>False</td>\n",
              "      <td>False</td>\n",
              "      <td>False</td>\n",
              "      <td>False</td>\n",
              "      <td>False</td>\n",
              "      <td>False</td>\n",
              "      <td>False</td>\n",
              "      <td>False</td>\n",
              "      <td>False</td>\n",
              "      <td>False</td>\n",
              "    </tr>\n",
              "  </tbody>\n",
              "</table>\n",
              "<p>138 rows × 14 columns</p>\n",
              "</div>"
            ],
            "text/plain": [
              "     profession  ...  How is your mental condition in this pandemic? \n",
              "0         False  ...                                            False\n",
              "1         False  ...                                            False\n",
              "2         False  ...                                            False\n",
              "3         False  ...                                            False\n",
              "4         False  ...                                            False\n",
              "..          ...  ...                                              ...\n",
              "133       False  ...                                            False\n",
              "134       False  ...                                            False\n",
              "135       False  ...                                            False\n",
              "136       False  ...                                            False\n",
              "137       False  ...                                            False\n",
              "\n",
              "[138 rows x 14 columns]"
            ]
          },
          "metadata": {
            "tags": []
          },
          "execution_count": 5
        }
      ]
    },
    {
      "cell_type": "code",
      "metadata": {
        "colab": {
          "base_uri": "https://localhost:8080/"
        },
        "id": "o0m1Kp9Kpe9X",
        "outputId": "6601fc8d-ad16-45a7-83d1-1d0327143e89"
      },
      "source": [
        "df.isnull().sum()"
      ],
      "execution_count": null,
      "outputs": [
        {
          "output_type": "execute_result",
          "data": {
            "text/plain": [
              "profession                                                         0\n",
              "blood_group                                                        0\n",
              "district                                                           0\n",
              "member                                                             0\n",
              "father's_profession                                                0\n",
              "There have any corona patients in your family?                     0\n",
              "bloodGr                                                            0\n",
              "affected                                                           0\n",
              "How is your family / your financial condition now?                 0\n",
              "How is going on your study/job in this corona crisis?              0\n",
              "How is the relationship with your family in this corona crisis?    0\n",
              "In which part you spend your time most in the corona pandemic?     0\n",
              "problemmostface                                                    0\n",
              "How is your mental condition in this pandemic?                     0\n",
              "dtype: int64"
            ]
          },
          "metadata": {
            "tags": []
          },
          "execution_count": 6
        }
      ]
    },
    {
      "cell_type": "code",
      "metadata": {
        "colab": {
          "base_uri": "https://localhost:8080/"
        },
        "id": "2Nmi_teQpkZK",
        "outputId": "0bb037a4-ad42-4fa8-a3b4-22427818aeed"
      },
      "source": [
        "df['There have any corona patients in your family?'].value_counts()"
      ],
      "execution_count": null,
      "outputs": [
        {
          "output_type": "execute_result",
          "data": {
            "text/plain": [
              "No     127\n",
              "Yes     11\n",
              "Name: There have any corona patients in your family?, dtype: int64"
            ]
          },
          "metadata": {
            "tags": []
          },
          "execution_count": 7
        }
      ]
    },
    {
      "cell_type": "code",
      "metadata": {
        "id": "_Cln73FWp-3i"
      },
      "source": [
        "import numpy as np\n",
        "import seaborn as sns\n",
        "import matplotlib.pyplot as plt\n"
      ],
      "execution_count": null,
      "outputs": []
    },
    {
      "cell_type": "code",
      "metadata": {
        "colab": {
          "base_uri": "https://localhost:8080/",
          "height": 351
        },
        "id": "P_kSAmb9puJc",
        "outputId": "385dc874-73e7-4d32-d74d-68796d829553"
      },
      "source": [
        "plt.subplots(figsize=(8,4))\n",
        "sns.countplot(df['There have any corona patients in your family?'])"
      ],
      "execution_count": null,
      "outputs": [
        {
          "output_type": "stream",
          "text": [
            "/usr/local/lib/python3.7/dist-packages/seaborn/_decorators.py:43: FutureWarning: Pass the following variable as a keyword arg: x. From version 0.12, the only valid positional argument will be `data`, and passing other arguments without an explicit keyword will result in an error or misinterpretation.\n",
            "  FutureWarning\n"
          ],
          "name": "stderr"
        },
        {
          "output_type": "execute_result",
          "data": {
            "text/plain": [
              "<matplotlib.axes._subplots.AxesSubplot at 0x7fcb37755b10>"
            ]
          },
          "metadata": {
            "tags": []
          },
          "execution_count": 15
        },
        {
          "output_type": "display_data",
          "data": {
            "image/png": "[encoded data removed]",
            "text/plain": [
              "<Figure size 576x288 with 1 Axes>"
            ]
          },
          "metadata": {
            "tags": [],
            "needs_background": "light"
          }
        }
      ]
    },
    {
      "cell_type": "code",
      "metadata": {
        "colab": {
          "base_uri": "https://localhost:8080/",
          "height": 297
        },
        "id": "lQgAINDvpwlX",
        "outputId": "be5ba1ca-f476-4f74-95e1-18be7e0186ad"
      },
      "source": [
        "plt.subplots(figsize=(8,4))\n",
        "sns.countplot(x='How is the relationship with your family in this corona crisis?', hue='There have any corona patients in your family?',data=df,palette = 'colorblind')"
      ],
      "execution_count": null,
      "outputs": [
        {
          "output_type": "execute_result",
          "data": {
            "text/plain": [
              "<matplotlib.axes._subplots.AxesSubplot at 0x7fcb2940e810>"
            ]
          },
          "metadata": {
            "tags": []
          },
          "execution_count": 16
        },
        {
          "output_type": "display_data",
          "data": {
            "image/png": "[encoded data removed]",
            "text/plain": [
              "<Figure size 576x288 with 1 Axes>"
            ]
          },
          "metadata": {
            "tags": [],
            "needs_background": "light"
          }
        }
      ]
    },
    {
      "cell_type": "code",
      "metadata": {
        "colab": {
          "base_uri": "https://localhost:8080/",
          "height": 405
        },
        "id": "m_vFV-CBqEP4",
        "outputId": "d3fe6a6a-a784-4ed5-d435-cca70a7fd693"
      },
      "source": [
        "plt.subplots(figsize=(8,6))\n",
        "sns.countplot(x='How is the relationship with your family in this corona crisis?', hue='How is your mental condition in this pandemic? ',data=df,palette = 'colorblind')"
      ],
      "execution_count": null,
      "outputs": [
        {
          "output_type": "execute_result",
          "data": {
            "text/plain": [
              "<matplotlib.axes._subplots.AxesSubplot at 0x7fcb28f46dd0>"
            ]
          },
          "metadata": {
            "tags": []
          },
          "execution_count": 17
        },
        {
          "output_type": "display_data",
          "data": {
            "image/png": "[encoded data removed]",
            "text/plain": [
              "<Figure size 576x432 with 1 Axes>"
            ]
          },
          "metadata": {
            "tags": [],
            "needs_background": "light"
          }
        }
      ]
    },
    {
      "cell_type": "code",
      "metadata": {
        "id": "Q0X9qSlwqdc4"
      },
      "source": [
        "array=df.values"
      ],
      "execution_count": null,
      "outputs": []
    },
    {
      "cell_type": "code",
      "metadata": {
        "id": "JfKonlZBqJaV"
      },
      "source": [
        "x = array[:,0:13]\n",
        "y = array[:,13]\n",
        "df.columns = df.iloc[0]"
      ],
      "execution_count": null,
      "outputs": []
    },
    {
      "cell_type": "code",
      "metadata": {
        "id": "Z7g5tu6SqOGs"
      },
      "source": [
        "import re\n",
        "from sklearn.feature_selection import RFE\n",
        "from sklearn.linear_model import LogisticRegression\n",
        "from sklearn.model_selection import train_test_split\n",
        "from sklearn.preprocessing import LabelEncoder\n",
        "from sklearn.linear_model import LinearRegression, LogisticRegression\n",
        "from sklearn.neighbors import KNeighborsClassifier,KNeighborsRegressor\n",
        "from sklearn.model_selection import cross_val_score\n",
        "import matplotlib.pyplot as plt"
      ],
      "execution_count": null,
      "outputs": []
    },
    {
      "cell_type": "code",
      "metadata": {
        "colab": {
          "base_uri": "https://localhost:8080/",
          "height": 300
        },
        "id": "LInJQzQGqg8t",
        "outputId": "cb96c7d2-2903-457e-bbfe-8a0c9b8e64d6"
      },
      "source": [
        "df.plot.hist(subplots=True, layout=(1,1), figsize=(6, 4), bins=40)"
      ],
      "execution_count": null,
      "outputs": [
        {
          "output_type": "execute_result",
          "data": {
            "text/plain": [
              "array([[<matplotlib.axes._subplots.AxesSubplot object at 0x7fcb24851c10>]],\n",
              "      dtype=object)"
            ]
          },
          "metadata": {
            "tags": []
          },
          "execution_count": 37
        },
        {
          "output_type": "display_data",
          "data": {
            "image/png": "[encoded data removed]",
            "text/plain": [
              "<Figure size 432x288 with 1 Axes>"
            ]
          },
          "metadata": {
            "tags": [],
            "needs_background": "light"
          }
        }
      ]
    },
    {
      "cell_type": "code",
      "metadata": {
        "id": "kCdb4d_xqi07"
      },
      "source": [
        "model = LogisticRegression(solver='lbfgs')"
      ],
      "execution_count": null,
      "outputs": []
    },
    {
      "cell_type": "code",
      "metadata": {
        "id": "fPHXB-cLqpoH"
      },
      "source": [
        "x_train,x_test,y_train,y_test = train_test_split(x,y,test_size=0.2)"
      ],
      "execution_count": null,
      "outputs": []
    },
    {
      "cell_type": "code",
      "metadata": {
        "colab": {
          "base_uri": "https://localhost:8080/"
        },
        "id": "Fsled-tdqrdW",
        "outputId": "30a1f33e-1fa3-4d2d-c771-86302a87c571"
      },
      "source": [
        "x_train"
      ],
      "execution_count": null,
      "outputs": [
        {
          "output_type": "execute_result",
          "data": {
            "text/plain": [
              "array([['Student', 'B+', 'Chuadanga', ..., 'Friendly', 'Family',\n",
              "        'Education problem '],\n",
              "       ['Student', 'B+', 'Dhaka', ..., 'Well',\n",
              "        'By doing nothing or leisurely', 'Financial'],\n",
              "       ['Student', 'AB+', 'Satkhira ', ..., 'Well', 'Family',\n",
              "        'Education problem '],\n",
              "       ...,\n",
              "       ['Official Job', 'B+', 'Sahatkira', ..., 'Conflicting', 'Family',\n",
              "        'Money problem'],\n",
              "       ['Student', 'O+', 'Dhaka', ..., 'Well',\n",
              "        'by doing productive something',\n",
              "        'tension of family and health safety'],\n",
              "       ['Student', 'A+', 'Rangpur ', ..., 'Friendly', 'Family',\n",
              "        'So many problem ']], dtype=object)"
            ]
          },
          "metadata": {
            "tags": []
          },
          "execution_count": 40
        }
      ]
    },
    {
      "cell_type": "code",
      "metadata": {
        "colab": {
          "base_uri": "https://localhost:8080/"
        },
        "id": "Raj3xljTrJHu",
        "outputId": "a907fd54-f546-4565-e729-318813189f55"
      },
      "source": [
        "y_train"
      ],
      "execution_count": null,
      "outputs": [
        {
          "output_type": "execute_result",
          "data": {
            "text/plain": [
              "array(['Depressed', 'Tensed', 'Panic', 'Tensed', 'Depressed', 'Tensed',\n",
              "       'Well', 'Depressed', 'Tensed', 'Tensed', 'Panic', 'Depressed',\n",
              "       'Depressed', 'Depressed', 'Depressed', 'Anxity', 'Panic',\n",
              "       'Depressed', 'Tensed', 'Depressed', 'Well', 'Depressed', 'Tensed',\n",
              "       'Well', 'Well', 'Depressed', 'Well', 'Anxity', 'Well', 'Anxity',\n",
              "       'Tensed', 'Well', 'Depressed', 'Depressed', 'Depressed',\n",
              "       'Depressed', 'Well', 'Tensed', 'Depressed', 'Well', 'Tensed',\n",
              "       'Depressed', 'Tensed', 'tried.', 'Well', 'Panic', 'Well', 'Panic',\n",
              "       'Depressed', 'Depressed', 'Depressed', 'Tensed', 'Well', 'Well',\n",
              "       'Tensed', 'Tensed', 'Well', 'Depressed', 'Well', 'Well', 'Panic',\n",
              "       'Depressed', 'Well', 'Tensed', 'Well', 'Depressed', 'Depressed',\n",
              "       'Tensed', 'Tensed', 'Tensed', 'Panic', 'Depressed', 'Panic',\n",
              "       'Depressed', 'Tensed', 'Depressed', 'Depressed', 'Tensed',\n",
              "       'Anxity', 'Depressed', 'Depressed', 'Well', 'Well', 'Well',\n",
              "       'Depressed', 'Tensed', 'Anxity', 'Depressed', 'Depressed',\n",
              "       'Depressed', 'Tensed', 'Depressed', 'Tensed', 'Tensed', 'Tensed',\n",
              "       'Depressed', 'Depressed', 'Anxity', 'Tensed', 'Panic', 'Panic',\n",
              "       'Depressed', 'Well', 'Panic', 'Depressed', 'Well', 'Well',\n",
              "       'Depressed', 'Anxity', 'Depressed'], dtype=object)"
            ]
          },
          "metadata": {
            "tags": []
          },
          "execution_count": 41
        }
      ]
    },
    {
      "cell_type": "code",
      "metadata": {
        "colab": {
          "base_uri": "https://localhost:8080/"
        },
        "id": "MoqiHSMjrK4x",
        "outputId": "46f19b53-1218-46d0-eb5e-5e0dd2a6e1b2"
      },
      "source": [
        "y_test"
      ],
      "execution_count": null,
      "outputs": [
        {
          "output_type": "execute_result",
          "data": {
            "text/plain": [
              "array(['Tensed', 'Anxity', 'Depressed', 'Depressed', 'Panic', 'Well',\n",
              "       'Anxity', 'Well', 'Depressed', 'Anxity', 'Well', 'Depressed',\n",
              "       'Depressed', 'Depressed', 'Well', 'Depressed', 'Well', 'Depressed',\n",
              "       'Depressed', 'Depressed', 'Tensed', 'Depressed', 'Depressed',\n",
              "       'Well', 'Well', 'Tensed', 'Anxity', 'Depressed'], dtype=object)"
            ]
          },
          "metadata": {
            "tags": []
          },
          "execution_count": 42
        }
      ]
    },
    {
      "cell_type": "code",
      "metadata": {
        "id": "2qwmeoTFrTB6"
      },
      "source": [
        "le = LabelEncoder()"
      ],
      "execution_count": null,
      "outputs": []
    },
    {
      "cell_type": "code",
      "metadata": {
        "colab": {
          "base_uri": "https://localhost:8080/",
          "height": 166
        },
        "id": "2CNcSP84sTmV",
        "outputId": "0b193673-b958-4b30-ab3b-4ddf4b68af70"
      },
      "source": [
        "df.blood_group = le.fit_transform(df.blood_group )"
      ],
      "execution_count": null,
      "outputs": [
        {
          "output_type": "error",
          "ename": "NameError",
          "evalue": "ignored",
          "traceback": [
            "\u001b[0;31m---------------------------------------------------------------------------\u001b[0m",
            "\u001b[0;31mNameError\u001b[0m                                 Traceback (most recent call last)",
            "\u001b[0;32m<ipython-input-8-62cd2f48695d>\u001b[0m in \u001b[0;36m<module>\u001b[0;34m()\u001b[0m\n\u001b[0;32m----> 1\u001b[0;31m \u001b[0mdf\u001b[0m\u001b[0;34m.\u001b[0m\u001b[0mblood_group\u001b[0m \u001b[0;34m=\u001b[0m \u001b[0mle\u001b[0m\u001b[0;34m.\u001b[0m\u001b[0mfit_transform\u001b[0m\u001b[0;34m(\u001b[0m\u001b[0mdf\u001b[0m\u001b[0;34m.\u001b[0m\u001b[0mblood_group\u001b[0m \u001b[0;34m)\u001b[0m\u001b[0;34m\u001b[0m\u001b[0;34m\u001b[0m\u001b[0m\n\u001b[0m",
            "\u001b[0;31mNameError\u001b[0m: name 'le' is not defined"
          ]
        }
      ]
    },
    {
      "cell_type": "code",
      "metadata": {
        "id": "DoVUyH7TzZ6W"
      },
      "source": [
        ""
      ],
      "execution_count": null,
      "outputs": []
    }
  ]
}